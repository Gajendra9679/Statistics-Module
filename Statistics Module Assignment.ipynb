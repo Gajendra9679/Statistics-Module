{
  "cells": [
    {
      "cell_type": "markdown",
      "metadata": {
        "id": "QvtD0SxEOPGe"
      },
      "source": [
        "<a id='1'></a><center> <h3 style=\"background-color:orange; color:white\" ><br>Telecommunication Industry Project<br></h3>"
      ]
    },
    {
      "cell_type": "markdown",
      "metadata": {
        "id": "_pzTIrVbOcFF"
      },
      "source": [
        "# Introduction\n",
        "This Jupyter notebook is part of your learning experience in the study of applied statistics.\n",
        "\n",
        "You will work with a data set that contains mobile phone prices and their specifications.\n",
        "\n",
        "**Dataset Columns Information**\n",
        "\n",
        "PID = a unique identifier for the phone model\n",
        "\n",
        "Blue = whether the phone has bluetooth support or not\n",
        "\n",
        "Wi_Fi = whether the phone has wifi support or not\n",
        "\n",
        "Tch_Scr = whether the phone has touch screen support or not\n",
        "\n",
        "Ext_Mem = whether the phone has external memory support or not\n",
        "\n",
        "Px_h = number of pixels in the vertical axis of the phone\n",
        "\n",
        "Px_w = number of pixels in the horizontal axis of the phone\n",
        "\n",
        "Scr_h = height of the screen of the phone in centimetres (cm)\n",
        "\n",
        "Scr_w = width of the screen of the phone in centimetres (cm)\n",
        "\n",
        "Int_Mem = internal memory of the phone measured in megabytes (MB)\n",
        "\n",
        "Bty_Pwr = maximum energy stored by the phone's battery measured in \n",
        "milli-Ampere-hours (mAh)\n",
        "\n",
        "PC = resolution of the primary camera measued in megapixels (MP)\n",
        "\n",
        "FC = resolution of the front camera measued in megapixels (MP)\n",
        "\n",
        "RAM = random access memory available in the phone measured in gigabytes (GB)\n",
        "\n",
        "Depth = depth of the mobile phone measured in centimetres (cm)\n",
        "\n",
        "Weight = weight of the mobile phone measured in grams (g)\n",
        "\n",
        "Price = selling price of the mobile phone in rupees\n"
      ]
    },
    {
      "cell_type": "markdown",
      "metadata": {
        "id": "YCLhIkwFO4Tj"
      },
      "source": [
        "## Task 1 - Load and study the data"
      ]
    },
    {
      "cell_type": "markdown",
      "metadata": {
        "id": "CBMdPgPUO89Y"
      },
      "source": [
        "Import the libraries that will be used in this notebook"
      ]
    },
    {
      "cell_type": "code",
      "execution_count": 6,
      "metadata": {
        "id": "z9ZS2Tw2N857"
      },
      "outputs": [],
      "source": [
        "# Load \"numpy\" and \"pandas\" for manipulating numbers and data frames\n",
        "# Load \"matplotlib.pyplot\" and \"seaborn\" for data visualisation\n",
        "\n",
        "import pandas as pd\n",
        "import numpy as np\n",
        "import seaborn as sns   \n",
        "import matplotlib.pyplot as plt     \n",
        "%matplotlib inline \n",
        "sns.set(color_codes=True)\n",
        "from scipy import stats\n",
        "import warnings\n",
        "warnings.filterwarnings(\"ignore\")"
      ]
    },
    {
      "cell_type": "markdown",
      "metadata": {
        "id": "7rdvm8PDPCgM"
      },
      "source": [
        "Load the csv file as pandas dataframe. "
      ]
    },
    {
      "cell_type": "code",
      "execution_count": 9,
      "metadata": {
        "id": "7p5Rg_AkN858"
      },
      "outputs": [],
      "source": [
        "# Read in the \"Dataset\" file as a Pandas Data Frame\n",
        "\n",
        "df = pd.read_csv('Telecom Dataset.csv')"
      ]
    },
    {
      "cell_type": "code",
      "execution_count": 12,
      "metadata": {
        "id": "WdfT3N-iN859"
      },
      "outputs": [
        {
          "data": {
            "text/html": [
              "<div>\n",
              "<style scoped>\n",
              "    .dataframe tbody tr th:only-of-type {\n",
              "        vertical-align: middle;\n",
              "    }\n",
              "\n",
              "    .dataframe tbody tr th {\n",
              "        vertical-align: top;\n",
              "    }\n",
              "\n",
              "    .dataframe thead th {\n",
              "        text-align: right;\n",
              "    }\n",
              "</style>\n",
              "<table border=\"1\" class=\"dataframe\">\n",
              "  <thead>\n",
              "    <tr style=\"text-align: right;\">\n",
              "      <th></th>\n",
              "      <th>PID</th>\n",
              "      <th>Blue</th>\n",
              "      <th>Wi_Fi</th>\n",
              "      <th>Tch_Scr</th>\n",
              "      <th>Ext_Mem</th>\n",
              "      <th>Px_h</th>\n",
              "      <th>Px_w</th>\n",
              "      <th>Scr_h</th>\n",
              "      <th>Scr_w</th>\n",
              "      <th>PC</th>\n",
              "      <th>FC</th>\n",
              "      <th>Int_Mem</th>\n",
              "      <th>Bty_Pwr</th>\n",
              "      <th>RAM</th>\n",
              "      <th>Depth</th>\n",
              "      <th>Weight</th>\n",
              "      <th>Price</th>\n",
              "    </tr>\n",
              "  </thead>\n",
              "  <tbody>\n",
              "    <tr>\n",
              "      <th>0</th>\n",
              "      <td>AAB346A</td>\n",
              "      <td>yes</td>\n",
              "      <td>yes</td>\n",
              "      <td>no</td>\n",
              "      <td>no</td>\n",
              "      <td>780</td>\n",
              "      <td>460</td>\n",
              "      <td>3</td>\n",
              "      <td>1</td>\n",
              "      <td>2</td>\n",
              "      <td>2</td>\n",
              "      <td>8</td>\n",
              "      <td>2800</td>\n",
              "      <td>2</td>\n",
              "      <td>7</td>\n",
              "      <td>320</td>\n",
              "      <td>3297</td>\n",
              "    </tr>\n",
              "    <tr>\n",
              "      <th>1</th>\n",
              "      <td>AAC347I</td>\n",
              "      <td>yes</td>\n",
              "      <td>yes</td>\n",
              "      <td>no</td>\n",
              "      <td>no</td>\n",
              "      <td>780</td>\n",
              "      <td>560</td>\n",
              "      <td>2</td>\n",
              "      <td>1</td>\n",
              "      <td>4</td>\n",
              "      <td>2</td>\n",
              "      <td>8</td>\n",
              "      <td>3000</td>\n",
              "      <td>2</td>\n",
              "      <td>7</td>\n",
              "      <td>280</td>\n",
              "      <td>4500</td>\n",
              "    </tr>\n",
              "    <tr>\n",
              "      <th>2</th>\n",
              "      <td>BAB657J</td>\n",
              "      <td>no</td>\n",
              "      <td>yes</td>\n",
              "      <td>no</td>\n",
              "      <td>no</td>\n",
              "      <td>840</td>\n",
              "      <td>720</td>\n",
              "      <td>2</td>\n",
              "      <td>1</td>\n",
              "      <td>4</td>\n",
              "      <td>2</td>\n",
              "      <td>8</td>\n",
              "      <td>3300</td>\n",
              "      <td>2</td>\n",
              "      <td>7</td>\n",
              "      <td>400</td>\n",
              "      <td>4898</td>\n",
              "    </tr>\n",
              "    <tr>\n",
              "      <th>3</th>\n",
              "      <td>BBD456K</td>\n",
              "      <td>no</td>\n",
              "      <td>yes</td>\n",
              "      <td>yes</td>\n",
              "      <td>no</td>\n",
              "      <td>1280</td>\n",
              "      <td>1120</td>\n",
              "      <td>5</td>\n",
              "      <td>3</td>\n",
              "      <td>6</td>\n",
              "      <td>2</td>\n",
              "      <td>32</td>\n",
              "      <td>3000</td>\n",
              "      <td>2</td>\n",
              "      <td>3</td>\n",
              "      <td>300</td>\n",
              "      <td>6900</td>\n",
              "    </tr>\n",
              "    <tr>\n",
              "      <th>4</th>\n",
              "      <td>CCP761U</td>\n",
              "      <td>no</td>\n",
              "      <td>yes</td>\n",
              "      <td>yes</td>\n",
              "      <td>no</td>\n",
              "      <td>1280</td>\n",
              "      <td>1080</td>\n",
              "      <td>4</td>\n",
              "      <td>3</td>\n",
              "      <td>6</td>\n",
              "      <td>2</td>\n",
              "      <td>16</td>\n",
              "      <td>3000</td>\n",
              "      <td>2</td>\n",
              "      <td>3</td>\n",
              "      <td>210</td>\n",
              "      <td>5600</td>\n",
              "    </tr>\n",
              "    <tr>\n",
              "      <th>5</th>\n",
              "      <td>CCQ674K</td>\n",
              "      <td>yes</td>\n",
              "      <td>no</td>\n",
              "      <td>no</td>\n",
              "      <td>no</td>\n",
              "      <td>1280</td>\n",
              "      <td>1080</td>\n",
              "      <td>4</td>\n",
              "      <td>3</td>\n",
              "      <td>6</td>\n",
              "      <td>4</td>\n",
              "      <td>8</td>\n",
              "      <td>2980</td>\n",
              "      <td>2</td>\n",
              "      <td>3</td>\n",
              "      <td>230</td>\n",
              "      <td>4990</td>\n",
              "    </tr>\n",
              "    <tr>\n",
              "      <th>6</th>\n",
              "      <td>CTX123L</td>\n",
              "      <td>yes</td>\n",
              "      <td>no</td>\n",
              "      <td>yes</td>\n",
              "      <td>no</td>\n",
              "      <td>1390</td>\n",
              "      <td>1080</td>\n",
              "      <td>6</td>\n",
              "      <td>3</td>\n",
              "      <td>8</td>\n",
              "      <td>4</td>\n",
              "      <td>32</td>\n",
              "      <td>3000</td>\n",
              "      <td>2</td>\n",
              "      <td>3</td>\n",
              "      <td>100</td>\n",
              "      <td>13400</td>\n",
              "    </tr>\n",
              "    <tr>\n",
              "      <th>7</th>\n",
              "      <td>DFR256N</td>\n",
              "      <td>yes</td>\n",
              "      <td>no</td>\n",
              "      <td>no</td>\n",
              "      <td>no</td>\n",
              "      <td>2880</td>\n",
              "      <td>2120</td>\n",
              "      <td>8</td>\n",
              "      <td>6</td>\n",
              "      <td>12</td>\n",
              "      <td>8</td>\n",
              "      <td>32</td>\n",
              "      <td>3200</td>\n",
              "      <td>2</td>\n",
              "      <td>3</td>\n",
              "      <td>80</td>\n",
              "      <td>15600</td>\n",
              "    </tr>\n",
              "    <tr>\n",
              "      <th>8</th>\n",
              "      <td>DGS789M</td>\n",
              "      <td>yes</td>\n",
              "      <td>yes</td>\n",
              "      <td>yes</td>\n",
              "      <td>yes</td>\n",
              "      <td>2580</td>\n",
              "      <td>1920</td>\n",
              "      <td>6</td>\n",
              "      <td>3</td>\n",
              "      <td>32</td>\n",
              "      <td>16</td>\n",
              "      <td>8</td>\n",
              "      <td>2800</td>\n",
              "      <td>6</td>\n",
              "      <td>3</td>\n",
              "      <td>120</td>\n",
              "      <td>27688</td>\n",
              "    </tr>\n",
              "    <tr>\n",
              "      <th>9</th>\n",
              "      <td>ENG897N</td>\n",
              "      <td>yes</td>\n",
              "      <td>yes</td>\n",
              "      <td>yes</td>\n",
              "      <td>yes</td>\n",
              "      <td>2580</td>\n",
              "      <td>1980</td>\n",
              "      <td>5</td>\n",
              "      <td>3</td>\n",
              "      <td>64</td>\n",
              "      <td>32</td>\n",
              "      <td>64</td>\n",
              "      <td>4380</td>\n",
              "      <td>4</td>\n",
              "      <td>3</td>\n",
              "      <td>150</td>\n",
              "      <td>23456</td>\n",
              "    </tr>\n",
              "    <tr>\n",
              "      <th>10</th>\n",
              "      <td>EOP657N</td>\n",
              "      <td>yes</td>\n",
              "      <td>yes</td>\n",
              "      <td>yes</td>\n",
              "      <td>yes</td>\n",
              "      <td>2580</td>\n",
              "      <td>1920</td>\n",
              "      <td>6</td>\n",
              "      <td>3</td>\n",
              "      <td>32</td>\n",
              "      <td>16</td>\n",
              "      <td>128</td>\n",
              "      <td>2800</td>\n",
              "      <td>4</td>\n",
              "      <td>4</td>\n",
              "      <td>210</td>\n",
              "      <td>35460</td>\n",
              "    </tr>\n",
              "    <tr>\n",
              "      <th>11</th>\n",
              "      <td>ELS333L</td>\n",
              "      <td>yes</td>\n",
              "      <td>yes</td>\n",
              "      <td>yes</td>\n",
              "      <td>yes</td>\n",
              "      <td>2580</td>\n",
              "      <td>1920</td>\n",
              "      <td>8</td>\n",
              "      <td>6</td>\n",
              "      <td>64</td>\n",
              "      <td>32</td>\n",
              "      <td>8</td>\n",
              "      <td>4500</td>\n",
              "      <td>8</td>\n",
              "      <td>4</td>\n",
              "      <td>150</td>\n",
              "      <td>43980</td>\n",
              "    </tr>\n",
              "    <tr>\n",
              "      <th>12</th>\n",
              "      <td>ETT987D</td>\n",
              "      <td>no</td>\n",
              "      <td>yes</td>\n",
              "      <td>yes</td>\n",
              "      <td>yes</td>\n",
              "      <td>2580</td>\n",
              "      <td>1980</td>\n",
              "      <td>6</td>\n",
              "      <td>5</td>\n",
              "      <td>64</td>\n",
              "      <td>32</td>\n",
              "      <td>64</td>\n",
              "      <td>4500</td>\n",
              "      <td>6</td>\n",
              "      <td>4</td>\n",
              "      <td>300</td>\n",
              "      <td>28700</td>\n",
              "    </tr>\n",
              "    <tr>\n",
              "      <th>13</th>\n",
              "      <td>NAJ56GL</td>\n",
              "      <td>no</td>\n",
              "      <td>yes</td>\n",
              "      <td>yes</td>\n",
              "      <td>no</td>\n",
              "      <td>2880</td>\n",
              "      <td>2120</td>\n",
              "      <td>6</td>\n",
              "      <td>5</td>\n",
              "      <td>32</td>\n",
              "      <td>16</td>\n",
              "      <td>64</td>\n",
              "      <td>2800</td>\n",
              "      <td>6</td>\n",
              "      <td>4</td>\n",
              "      <td>270</td>\n",
              "      <td>23600</td>\n",
              "    </tr>\n",
              "    <tr>\n",
              "      <th>14</th>\n",
              "      <td>NBN329S</td>\n",
              "      <td>yes</td>\n",
              "      <td>yes</td>\n",
              "      <td>yes</td>\n",
              "      <td>yes</td>\n",
              "      <td>2380</td>\n",
              "      <td>1820</td>\n",
              "      <td>5</td>\n",
              "      <td>3</td>\n",
              "      <td>16</td>\n",
              "      <td>8</td>\n",
              "      <td>8</td>\n",
              "      <td>2800</td>\n",
              "      <td>4</td>\n",
              "      <td>4</td>\n",
              "      <td>80</td>\n",
              "      <td>21972</td>\n",
              "    </tr>\n",
              "    <tr>\n",
              "      <th>15</th>\n",
              "      <td>NSD450I</td>\n",
              "      <td>no</td>\n",
              "      <td>no</td>\n",
              "      <td>yes</td>\n",
              "      <td>yes</td>\n",
              "      <td>1980</td>\n",
              "      <td>1760</td>\n",
              "      <td>10</td>\n",
              "      <td>8</td>\n",
              "      <td>16</td>\n",
              "      <td>16</td>\n",
              "      <td>128</td>\n",
              "      <td>3900</td>\n",
              "      <td>6</td>\n",
              "      <td>4</td>\n",
              "      <td>180</td>\n",
              "      <td>23456</td>\n",
              "    </tr>\n",
              "    <tr>\n",
              "      <th>16</th>\n",
              "      <td>PDF768G</td>\n",
              "      <td>no</td>\n",
              "      <td>no</td>\n",
              "      <td>yes</td>\n",
              "      <td>yes</td>\n",
              "      <td>2580</td>\n",
              "      <td>1980</td>\n",
              "      <td>8</td>\n",
              "      <td>6</td>\n",
              "      <td>64</td>\n",
              "      <td>32</td>\n",
              "      <td>128</td>\n",
              "      <td>3300</td>\n",
              "      <td>4</td>\n",
              "      <td>3</td>\n",
              "      <td>160</td>\n",
              "      <td>22650</td>\n",
              "    </tr>\n",
              "    <tr>\n",
              "      <th>17</th>\n",
              "      <td>PDG234M</td>\n",
              "      <td>no</td>\n",
              "      <td>no</td>\n",
              "      <td>yes</td>\n",
              "      <td>yes</td>\n",
              "      <td>2880</td>\n",
              "      <td>2120</td>\n",
              "      <td>8</td>\n",
              "      <td>6</td>\n",
              "      <td>8</td>\n",
              "      <td>8</td>\n",
              "      <td>64</td>\n",
              "      <td>2800</td>\n",
              "      <td>4</td>\n",
              "      <td>3</td>\n",
              "      <td>250</td>\n",
              "      <td>19806</td>\n",
              "    </tr>\n",
              "    <tr>\n",
              "      <th>18</th>\n",
              "      <td>PEL111K</td>\n",
              "      <td>no</td>\n",
              "      <td>no</td>\n",
              "      <td>yes</td>\n",
              "      <td>yes</td>\n",
              "      <td>1980</td>\n",
              "      <td>1760</td>\n",
              "      <td>8</td>\n",
              "      <td>6</td>\n",
              "      <td>12</td>\n",
              "      <td>4</td>\n",
              "      <td>8</td>\n",
              "      <td>4000</td>\n",
              "      <td>4</td>\n",
              "      <td>3</td>\n",
              "      <td>330</td>\n",
              "      <td>11388</td>\n",
              "    </tr>\n",
              "    <tr>\n",
              "      <th>19</th>\n",
              "      <td>PNWD777L</td>\n",
              "      <td>no</td>\n",
              "      <td>no</td>\n",
              "      <td>yes</td>\n",
              "      <td>yes</td>\n",
              "      <td>2880</td>\n",
              "      <td>2120</td>\n",
              "      <td>4</td>\n",
              "      <td>3</td>\n",
              "      <td>24</td>\n",
              "      <td>12</td>\n",
              "      <td>64</td>\n",
              "      <td>2800</td>\n",
              "      <td>4</td>\n",
              "      <td>3</td>\n",
              "      <td>200</td>\n",
              "      <td>14350</td>\n",
              "    </tr>\n",
              "    <tr>\n",
              "      <th>20</th>\n",
              "      <td>POP857R</td>\n",
              "      <td>no</td>\n",
              "      <td>yes</td>\n",
              "      <td>yes</td>\n",
              "      <td>yes</td>\n",
              "      <td>1980</td>\n",
              "      <td>1760</td>\n",
              "      <td>4</td>\n",
              "      <td>3</td>\n",
              "      <td>32</td>\n",
              "      <td>16</td>\n",
              "      <td>16</td>\n",
              "      <td>2800</td>\n",
              "      <td>4</td>\n",
              "      <td>3</td>\n",
              "      <td>150</td>\n",
              "      <td>24560</td>\n",
              "    </tr>\n",
              "    <tr>\n",
              "      <th>21</th>\n",
              "      <td>QWR222Y</td>\n",
              "      <td>no</td>\n",
              "      <td>yes</td>\n",
              "      <td>yes</td>\n",
              "      <td>yes</td>\n",
              "      <td>2580</td>\n",
              "      <td>1980</td>\n",
              "      <td>8</td>\n",
              "      <td>6</td>\n",
              "      <td>64</td>\n",
              "      <td>32</td>\n",
              "      <td>128</td>\n",
              "      <td>4400</td>\n",
              "      <td>4</td>\n",
              "      <td>3</td>\n",
              "      <td>160</td>\n",
              "      <td>21350</td>\n",
              "    </tr>\n",
              "    <tr>\n",
              "      <th>22</th>\n",
              "      <td>QZR577O</td>\n",
              "      <td>no</td>\n",
              "      <td>yes</td>\n",
              "      <td>yes</td>\n",
              "      <td>yes</td>\n",
              "      <td>1440</td>\n",
              "      <td>1280</td>\n",
              "      <td>4</td>\n",
              "      <td>3</td>\n",
              "      <td>8</td>\n",
              "      <td>8</td>\n",
              "      <td>64</td>\n",
              "      <td>2800</td>\n",
              "      <td>8</td>\n",
              "      <td>3</td>\n",
              "      <td>170</td>\n",
              "      <td>16999</td>\n",
              "    </tr>\n",
              "    <tr>\n",
              "      <th>23</th>\n",
              "      <td>RAY344W</td>\n",
              "      <td>no</td>\n",
              "      <td>yes</td>\n",
              "      <td>yes</td>\n",
              "      <td>yes</td>\n",
              "      <td>2880</td>\n",
              "      <td>2120</td>\n",
              "      <td>10</td>\n",
              "      <td>8</td>\n",
              "      <td>8</td>\n",
              "      <td>4</td>\n",
              "      <td>16</td>\n",
              "      <td>4800</td>\n",
              "      <td>8</td>\n",
              "      <td>3</td>\n",
              "      <td>170</td>\n",
              "      <td>18900</td>\n",
              "    </tr>\n",
              "    <tr>\n",
              "      <th>24</th>\n",
              "      <td>RBZ451D</td>\n",
              "      <td>no</td>\n",
              "      <td>yes</td>\n",
              "      <td>yes</td>\n",
              "      <td>yes</td>\n",
              "      <td>1440</td>\n",
              "      <td>1280</td>\n",
              "      <td>6</td>\n",
              "      <td>4</td>\n",
              "      <td>8</td>\n",
              "      <td>4</td>\n",
              "      <td>32</td>\n",
              "      <td>2800</td>\n",
              "      <td>8</td>\n",
              "      <td>3</td>\n",
              "      <td>150</td>\n",
              "      <td>17890</td>\n",
              "    </tr>\n",
              "    <tr>\n",
              "      <th>25</th>\n",
              "      <td>SDO555G</td>\n",
              "      <td>no</td>\n",
              "      <td>yes</td>\n",
              "      <td>yes</td>\n",
              "      <td>yes</td>\n",
              "      <td>2580</td>\n",
              "      <td>1980</td>\n",
              "      <td>6</td>\n",
              "      <td>3</td>\n",
              "      <td>64</td>\n",
              "      <td>32</td>\n",
              "      <td>64</td>\n",
              "      <td>4500</td>\n",
              "      <td>8</td>\n",
              "      <td>3</td>\n",
              "      <td>210</td>\n",
              "      <td>22000</td>\n",
              "    </tr>\n",
              "    <tr>\n",
              "      <th>26</th>\n",
              "      <td>SET568R</td>\n",
              "      <td>no</td>\n",
              "      <td>yes</td>\n",
              "      <td>yes</td>\n",
              "      <td>yes</td>\n",
              "      <td>1980</td>\n",
              "      <td>1280</td>\n",
              "      <td>5</td>\n",
              "      <td>3</td>\n",
              "      <td>8</td>\n",
              "      <td>4</td>\n",
              "      <td>128</td>\n",
              "      <td>4500</td>\n",
              "      <td>8</td>\n",
              "      <td>3</td>\n",
              "      <td>220</td>\n",
              "      <td>41320</td>\n",
              "    </tr>\n",
              "    <tr>\n",
              "      <th>27</th>\n",
              "      <td>SFK567Y</td>\n",
              "      <td>yes</td>\n",
              "      <td>yes</td>\n",
              "      <td>yes</td>\n",
              "      <td>yes</td>\n",
              "      <td>2580</td>\n",
              "      <td>2120</td>\n",
              "      <td>8</td>\n",
              "      <td>6</td>\n",
              "      <td>64</td>\n",
              "      <td>16</td>\n",
              "      <td>32</td>\n",
              "      <td>4300</td>\n",
              "      <td>8</td>\n",
              "      <td>3</td>\n",
              "      <td>200</td>\n",
              "      <td>49899</td>\n",
              "    </tr>\n",
              "    <tr>\n",
              "      <th>28</th>\n",
              "      <td>SSD000L</td>\n",
              "      <td>yes</td>\n",
              "      <td>yes</td>\n",
              "      <td>yes</td>\n",
              "      <td>yes</td>\n",
              "      <td>2580</td>\n",
              "      <td>2120</td>\n",
              "      <td>8</td>\n",
              "      <td>6</td>\n",
              "      <td>64</td>\n",
              "      <td>32</td>\n",
              "      <td>512</td>\n",
              "      <td>4200</td>\n",
              "      <td>8</td>\n",
              "      <td>3</td>\n",
              "      <td>270</td>\n",
              "      <td>36555</td>\n",
              "    </tr>\n",
              "    <tr>\n",
              "      <th>29</th>\n",
              "      <td>SYL888P</td>\n",
              "      <td>no</td>\n",
              "      <td>yes</td>\n",
              "      <td>yes</td>\n",
              "      <td>yes</td>\n",
              "      <td>2580</td>\n",
              "      <td>2120</td>\n",
              "      <td>8</td>\n",
              "      <td>6</td>\n",
              "      <td>64</td>\n",
              "      <td>16</td>\n",
              "      <td>256</td>\n",
              "      <td>5000</td>\n",
              "      <td>8</td>\n",
              "      <td>3</td>\n",
              "      <td>320</td>\n",
              "      <td>32459</td>\n",
              "    </tr>\n",
              "    <tr>\n",
              "      <th>30</th>\n",
              "      <td>TVF078Y</td>\n",
              "      <td>yes</td>\n",
              "      <td>yes</td>\n",
              "      <td>yes</td>\n",
              "      <td>yes</td>\n",
              "      <td>2580</td>\n",
              "      <td>2120</td>\n",
              "      <td>8</td>\n",
              "      <td>6</td>\n",
              "      <td>64</td>\n",
              "      <td>32</td>\n",
              "      <td>512</td>\n",
              "      <td>4860</td>\n",
              "      <td>8</td>\n",
              "      <td>3</td>\n",
              "      <td>90</td>\n",
              "      <td>29999</td>\n",
              "    </tr>\n",
              "    <tr>\n",
              "      <th>31</th>\n",
              "      <td>TYQ109G</td>\n",
              "      <td>no</td>\n",
              "      <td>yes</td>\n",
              "      <td>yes</td>\n",
              "      <td>yes</td>\n",
              "      <td>2580</td>\n",
              "      <td>2120</td>\n",
              "      <td>8</td>\n",
              "      <td>6</td>\n",
              "      <td>32</td>\n",
              "      <td>16</td>\n",
              "      <td>256</td>\n",
              "      <td>3300</td>\n",
              "      <td>8</td>\n",
              "      <td>3</td>\n",
              "      <td>110</td>\n",
              "      <td>45899</td>\n",
              "    </tr>\n",
              "    <tr>\n",
              "      <th>32</th>\n",
              "      <td>TYS938L</td>\n",
              "      <td>yes</td>\n",
              "      <td>yes</td>\n",
              "      <td>yes</td>\n",
              "      <td>yes</td>\n",
              "      <td>2580</td>\n",
              "      <td>2120</td>\n",
              "      <td>8</td>\n",
              "      <td>6</td>\n",
              "      <td>64</td>\n",
              "      <td>32</td>\n",
              "      <td>1024</td>\n",
              "      <td>4860</td>\n",
              "      <td>8</td>\n",
              "      <td>3</td>\n",
              "      <td>120</td>\n",
              "      <td>46777</td>\n",
              "    </tr>\n",
              "    <tr>\n",
              "      <th>33</th>\n",
              "      <td>TYU444Q</td>\n",
              "      <td>no</td>\n",
              "      <td>yes</td>\n",
              "      <td>yes</td>\n",
              "      <td>yes</td>\n",
              "      <td>2580</td>\n",
              "      <td>2120</td>\n",
              "      <td>8</td>\n",
              "      <td>6</td>\n",
              "      <td>64</td>\n",
              "      <td>32</td>\n",
              "      <td>128</td>\n",
              "      <td>2800</td>\n",
              "      <td>8</td>\n",
              "      <td>3</td>\n",
              "      <td>120</td>\n",
              "      <td>45680</td>\n",
              "    </tr>\n",
              "    <tr>\n",
              "      <th>34</th>\n",
              "      <td>TYY453J</td>\n",
              "      <td>yes</td>\n",
              "      <td>yes</td>\n",
              "      <td>yes</td>\n",
              "      <td>yes</td>\n",
              "      <td>2880</td>\n",
              "      <td>2120</td>\n",
              "      <td>6</td>\n",
              "      <td>3</td>\n",
              "      <td>64</td>\n",
              "      <td>32</td>\n",
              "      <td>128</td>\n",
              "      <td>4400</td>\n",
              "      <td>8</td>\n",
              "      <td>4</td>\n",
              "      <td>150</td>\n",
              "      <td>61750</td>\n",
              "    </tr>\n",
              "    <tr>\n",
              "      <th>35</th>\n",
              "      <td>ULI999T</td>\n",
              "      <td>no</td>\n",
              "      <td>yes</td>\n",
              "      <td>yes</td>\n",
              "      <td>yes</td>\n",
              "      <td>2440</td>\n",
              "      <td>2120</td>\n",
              "      <td>5</td>\n",
              "      <td>3</td>\n",
              "      <td>32</td>\n",
              "      <td>16</td>\n",
              "      <td>64</td>\n",
              "      <td>2800</td>\n",
              "      <td>8</td>\n",
              "      <td>4</td>\n",
              "      <td>210</td>\n",
              "      <td>42000</td>\n",
              "    </tr>\n",
              "    <tr>\n",
              "      <th>36</th>\n",
              "      <td>UST000T</td>\n",
              "      <td>yes</td>\n",
              "      <td>yes</td>\n",
              "      <td>yes</td>\n",
              "      <td>yes</td>\n",
              "      <td>2580</td>\n",
              "      <td>1980</td>\n",
              "      <td>10</td>\n",
              "      <td>8</td>\n",
              "      <td>64</td>\n",
              "      <td>32</td>\n",
              "      <td>32</td>\n",
              "      <td>3000</td>\n",
              "      <td>4</td>\n",
              "      <td>4</td>\n",
              "      <td>240</td>\n",
              "      <td>34589</td>\n",
              "    </tr>\n",
              "    <tr>\n",
              "      <th>37</th>\n",
              "      <td>USZ111S</td>\n",
              "      <td>yes</td>\n",
              "      <td>yes</td>\n",
              "      <td>yes</td>\n",
              "      <td>yes</td>\n",
              "      <td>2440</td>\n",
              "      <td>1980</td>\n",
              "      <td>5</td>\n",
              "      <td>3</td>\n",
              "      <td>48</td>\n",
              "      <td>32</td>\n",
              "      <td>128</td>\n",
              "      <td>4800</td>\n",
              "      <td>4</td>\n",
              "      <td>4</td>\n",
              "      <td>230</td>\n",
              "      <td>42300</td>\n",
              "    </tr>\n",
              "    <tr>\n",
              "      <th>38</th>\n",
              "      <td>VWV532Y</td>\n",
              "      <td>yes</td>\n",
              "      <td>yes</td>\n",
              "      <td>yes</td>\n",
              "      <td>yes</td>\n",
              "      <td>2580</td>\n",
              "      <td>1920</td>\n",
              "      <td>5</td>\n",
              "      <td>3</td>\n",
              "      <td>64</td>\n",
              "      <td>32</td>\n",
              "      <td>32</td>\n",
              "      <td>4860</td>\n",
              "      <td>8</td>\n",
              "      <td>4</td>\n",
              "      <td>310</td>\n",
              "      <td>39781</td>\n",
              "    </tr>\n",
              "    <tr>\n",
              "      <th>39</th>\n",
              "      <td>VYI666I</td>\n",
              "      <td>yes</td>\n",
              "      <td>yes</td>\n",
              "      <td>yes</td>\n",
              "      <td>yes</td>\n",
              "      <td>2440</td>\n",
              "      <td>1980</td>\n",
              "      <td>6</td>\n",
              "      <td>5</td>\n",
              "      <td>32</td>\n",
              "      <td>16</td>\n",
              "      <td>32</td>\n",
              "      <td>3200</td>\n",
              "      <td>4</td>\n",
              "      <td>4</td>\n",
              "      <td>180</td>\n",
              "      <td>33460</td>\n",
              "    </tr>\n",
              "    <tr>\n",
              "      <th>40</th>\n",
              "      <td>WER765T</td>\n",
              "      <td>yes</td>\n",
              "      <td>yes</td>\n",
              "      <td>yes</td>\n",
              "      <td>yes</td>\n",
              "      <td>2580</td>\n",
              "      <td>1980</td>\n",
              "      <td>5</td>\n",
              "      <td>3</td>\n",
              "      <td>64</td>\n",
              "      <td>32</td>\n",
              "      <td>128</td>\n",
              "      <td>3000</td>\n",
              "      <td>4</td>\n",
              "      <td>4</td>\n",
              "      <td>120</td>\n",
              "      <td>34780</td>\n",
              "    </tr>\n",
              "    <tr>\n",
              "      <th>41</th>\n",
              "      <td>WUV902Y</td>\n",
              "      <td>yes</td>\n",
              "      <td>yes</td>\n",
              "      <td>yes</td>\n",
              "      <td>yes</td>\n",
              "      <td>2580</td>\n",
              "      <td>1980</td>\n",
              "      <td>8</td>\n",
              "      <td>6</td>\n",
              "      <td>48</td>\n",
              "      <td>16</td>\n",
              "      <td>128</td>\n",
              "      <td>3400</td>\n",
              "      <td>4</td>\n",
              "      <td>3</td>\n",
              "      <td>140</td>\n",
              "      <td>28000</td>\n",
              "    </tr>\n",
              "    <tr>\n",
              "      <th>42</th>\n",
              "      <td>WZB298K</td>\n",
              "      <td>yes</td>\n",
              "      <td>yes</td>\n",
              "      <td>yes</td>\n",
              "      <td>yes</td>\n",
              "      <td>2580</td>\n",
              "      <td>1980</td>\n",
              "      <td>8</td>\n",
              "      <td>6</td>\n",
              "      <td>64</td>\n",
              "      <td>32</td>\n",
              "      <td>1024</td>\n",
              "      <td>5600</td>\n",
              "      <td>8</td>\n",
              "      <td>3</td>\n",
              "      <td>160</td>\n",
              "      <td>39000</td>\n",
              "    </tr>\n",
              "    <tr>\n",
              "      <th>43</th>\n",
              "      <td>XKL901R</td>\n",
              "      <td>no</td>\n",
              "      <td>yes</td>\n",
              "      <td>yes</td>\n",
              "      <td>yes</td>\n",
              "      <td>2580</td>\n",
              "      <td>1980</td>\n",
              "      <td>8</td>\n",
              "      <td>6</td>\n",
              "      <td>32</td>\n",
              "      <td>16</td>\n",
              "      <td>256</td>\n",
              "      <td>3900</td>\n",
              "      <td>4</td>\n",
              "      <td>3</td>\n",
              "      <td>210</td>\n",
              "      <td>54320</td>\n",
              "    </tr>\n",
              "    <tr>\n",
              "      <th>44</th>\n",
              "      <td>XTL675G</td>\n",
              "      <td>yes</td>\n",
              "      <td>yes</td>\n",
              "      <td>yes</td>\n",
              "      <td>yes</td>\n",
              "      <td>2580</td>\n",
              "      <td>1980</td>\n",
              "      <td>10</td>\n",
              "      <td>8</td>\n",
              "      <td>64</td>\n",
              "      <td>32</td>\n",
              "      <td>512</td>\n",
              "      <td>4560</td>\n",
              "      <td>8</td>\n",
              "      <td>3</td>\n",
              "      <td>260</td>\n",
              "      <td>51230</td>\n",
              "    </tr>\n",
              "    <tr>\n",
              "      <th>45</th>\n",
              "      <td>XXV567F</td>\n",
              "      <td>no</td>\n",
              "      <td>yes</td>\n",
              "      <td>yes</td>\n",
              "      <td>yes</td>\n",
              "      <td>2580</td>\n",
              "      <td>1980</td>\n",
              "      <td>8</td>\n",
              "      <td>6</td>\n",
              "      <td>64</td>\n",
              "      <td>32</td>\n",
              "      <td>64</td>\n",
              "      <td>2300</td>\n",
              "      <td>4</td>\n",
              "      <td>3</td>\n",
              "      <td>250</td>\n",
              "      <td>43990</td>\n",
              "    </tr>\n",
              "    <tr>\n",
              "      <th>46</th>\n",
              "      <td>YTR67TY</td>\n",
              "      <td>yes</td>\n",
              "      <td>yes</td>\n",
              "      <td>yes</td>\n",
              "      <td>yes</td>\n",
              "      <td>2580</td>\n",
              "      <td>1980</td>\n",
              "      <td>4</td>\n",
              "      <td>3</td>\n",
              "      <td>64</td>\n",
              "      <td>32</td>\n",
              "      <td>64</td>\n",
              "      <td>2800</td>\n",
              "      <td>4</td>\n",
              "      <td>3</td>\n",
              "      <td>200</td>\n",
              "      <td>56000</td>\n",
              "    </tr>\n",
              "    <tr>\n",
              "      <th>47</th>\n",
              "      <td>ZDF789K</td>\n",
              "      <td>yes</td>\n",
              "      <td>yes</td>\n",
              "      <td>yes</td>\n",
              "      <td>no</td>\n",
              "      <td>2880</td>\n",
              "      <td>2520</td>\n",
              "      <td>8</td>\n",
              "      <td>6</td>\n",
              "      <td>64</td>\n",
              "      <td>32</td>\n",
              "      <td>512</td>\n",
              "      <td>5600</td>\n",
              "      <td>12</td>\n",
              "      <td>2</td>\n",
              "      <td>80</td>\n",
              "      <td>84566</td>\n",
              "    </tr>\n",
              "    <tr>\n",
              "      <th>48</th>\n",
              "      <td>ZEO567M</td>\n",
              "      <td>yes</td>\n",
              "      <td>yes</td>\n",
              "      <td>yes</td>\n",
              "      <td>no</td>\n",
              "      <td>2880</td>\n",
              "      <td>2520</td>\n",
              "      <td>8</td>\n",
              "      <td>6</td>\n",
              "      <td>128</td>\n",
              "      <td>64</td>\n",
              "      <td>512</td>\n",
              "      <td>5600</td>\n",
              "      <td>12</td>\n",
              "      <td>2</td>\n",
              "      <td>110</td>\n",
              "      <td>88999</td>\n",
              "    </tr>\n",
              "    <tr>\n",
              "      <th>49</th>\n",
              "      <td>ZZZ909X</td>\n",
              "      <td>yes</td>\n",
              "      <td>yes</td>\n",
              "      <td>yes</td>\n",
              "      <td>no</td>\n",
              "      <td>2880</td>\n",
              "      <td>2520</td>\n",
              "      <td>8</td>\n",
              "      <td>6</td>\n",
              "      <td>128</td>\n",
              "      <td>64</td>\n",
              "      <td>1024</td>\n",
              "      <td>5600</td>\n",
              "      <td>12</td>\n",
              "      <td>2</td>\n",
              "      <td>130</td>\n",
              "      <td>149000</td>\n",
              "    </tr>\n",
              "  </tbody>\n",
              "</table>\n",
              "</div>"
            ],
            "text/plain": [
              "         PID Blue Wi_Fi Tch_Scr Ext_Mem  Px_h  Px_w  Scr_h  Scr_w   PC  FC  \\\n",
              "0    AAB346A  yes   yes      no      no   780   460      3      1    2   2   \n",
              "1    AAC347I  yes   yes      no      no   780   560      2      1    4   2   \n",
              "2    BAB657J   no   yes      no      no   840   720      2      1    4   2   \n",
              "3    BBD456K   no   yes     yes      no  1280  1120      5      3    6   2   \n",
              "4    CCP761U   no   yes     yes      no  1280  1080      4      3    6   2   \n",
              "5    CCQ674K  yes    no      no      no  1280  1080      4      3    6   4   \n",
              "6    CTX123L  yes    no     yes      no  1390  1080      6      3    8   4   \n",
              "7    DFR256N  yes    no      no      no  2880  2120      8      6   12   8   \n",
              "8    DGS789M  yes   yes     yes     yes  2580  1920      6      3   32  16   \n",
              "9    ENG897N  yes   yes     yes     yes  2580  1980      5      3   64  32   \n",
              "10   EOP657N  yes   yes     yes     yes  2580  1920      6      3   32  16   \n",
              "11   ELS333L  yes   yes     yes     yes  2580  1920      8      6   64  32   \n",
              "12   ETT987D   no   yes     yes     yes  2580  1980      6      5   64  32   \n",
              "13   NAJ56GL   no   yes     yes      no  2880  2120      6      5   32  16   \n",
              "14   NBN329S  yes   yes     yes     yes  2380  1820      5      3   16   8   \n",
              "15   NSD450I   no    no     yes     yes  1980  1760     10      8   16  16   \n",
              "16   PDF768G   no    no     yes     yes  2580  1980      8      6   64  32   \n",
              "17   PDG234M   no    no     yes     yes  2880  2120      8      6    8   8   \n",
              "18   PEL111K   no    no     yes     yes  1980  1760      8      6   12   4   \n",
              "19  PNWD777L   no    no     yes     yes  2880  2120      4      3   24  12   \n",
              "20   POP857R   no   yes     yes     yes  1980  1760      4      3   32  16   \n",
              "21   QWR222Y   no   yes     yes     yes  2580  1980      8      6   64  32   \n",
              "22   QZR577O   no   yes     yes     yes  1440  1280      4      3    8   8   \n",
              "23   RAY344W   no   yes     yes     yes  2880  2120     10      8    8   4   \n",
              "24   RBZ451D   no   yes     yes     yes  1440  1280      6      4    8   4   \n",
              "25   SDO555G   no   yes     yes     yes  2580  1980      6      3   64  32   \n",
              "26   SET568R   no   yes     yes     yes  1980  1280      5      3    8   4   \n",
              "27   SFK567Y  yes   yes     yes     yes  2580  2120      8      6   64  16   \n",
              "28   SSD000L  yes   yes     yes     yes  2580  2120      8      6   64  32   \n",
              "29   SYL888P   no   yes     yes     yes  2580  2120      8      6   64  16   \n",
              "30   TVF078Y  yes   yes     yes     yes  2580  2120      8      6   64  32   \n",
              "31   TYQ109G   no   yes     yes     yes  2580  2120      8      6   32  16   \n",
              "32   TYS938L  yes   yes     yes     yes  2580  2120      8      6   64  32   \n",
              "33   TYU444Q   no   yes     yes     yes  2580  2120      8      6   64  32   \n",
              "34   TYY453J  yes   yes     yes     yes  2880  2120      6      3   64  32   \n",
              "35   ULI999T   no   yes     yes     yes  2440  2120      5      3   32  16   \n",
              "36   UST000T  yes   yes     yes     yes  2580  1980     10      8   64  32   \n",
              "37   USZ111S  yes   yes     yes     yes  2440  1980      5      3   48  32   \n",
              "38   VWV532Y  yes   yes     yes     yes  2580  1920      5      3   64  32   \n",
              "39   VYI666I  yes   yes     yes     yes  2440  1980      6      5   32  16   \n",
              "40   WER765T  yes   yes     yes     yes  2580  1980      5      3   64  32   \n",
              "41   WUV902Y  yes   yes     yes     yes  2580  1980      8      6   48  16   \n",
              "42   WZB298K  yes   yes     yes     yes  2580  1980      8      6   64  32   \n",
              "43   XKL901R   no   yes     yes     yes  2580  1980      8      6   32  16   \n",
              "44   XTL675G  yes   yes     yes     yes  2580  1980     10      8   64  32   \n",
              "45   XXV567F   no   yes     yes     yes  2580  1980      8      6   64  32   \n",
              "46   YTR67TY  yes   yes     yes     yes  2580  1980      4      3   64  32   \n",
              "47   ZDF789K  yes   yes     yes      no  2880  2520      8      6   64  32   \n",
              "48   ZEO567M  yes   yes     yes      no  2880  2520      8      6  128  64   \n",
              "49   ZZZ909X  yes   yes     yes      no  2880  2520      8      6  128  64   \n",
              "\n",
              "    Int_Mem  Bty_Pwr  RAM  Depth  Weight   Price  \n",
              "0         8     2800    2      7     320    3297  \n",
              "1         8     3000    2      7     280    4500  \n",
              "2         8     3300    2      7     400    4898  \n",
              "3        32     3000    2      3     300    6900  \n",
              "4        16     3000    2      3     210    5600  \n",
              "5         8     2980    2      3     230    4990  \n",
              "6        32     3000    2      3     100   13400  \n",
              "7        32     3200    2      3      80   15600  \n",
              "8         8     2800    6      3     120   27688  \n",
              "9        64     4380    4      3     150   23456  \n",
              "10      128     2800    4      4     210   35460  \n",
              "11        8     4500    8      4     150   43980  \n",
              "12       64     4500    6      4     300   28700  \n",
              "13       64     2800    6      4     270   23600  \n",
              "14        8     2800    4      4      80   21972  \n",
              "15      128     3900    6      4     180   23456  \n",
              "16      128     3300    4      3     160   22650  \n",
              "17       64     2800    4      3     250   19806  \n",
              "18        8     4000    4      3     330   11388  \n",
              "19       64     2800    4      3     200   14350  \n",
              "20       16     2800    4      3     150   24560  \n",
              "21      128     4400    4      3     160   21350  \n",
              "22       64     2800    8      3     170   16999  \n",
              "23       16     4800    8      3     170   18900  \n",
              "24       32     2800    8      3     150   17890  \n",
              "25       64     4500    8      3     210   22000  \n",
              "26      128     4500    8      3     220   41320  \n",
              "27       32     4300    8      3     200   49899  \n",
              "28      512     4200    8      3     270   36555  \n",
              "29      256     5000    8      3     320   32459  \n",
              "30      512     4860    8      3      90   29999  \n",
              "31      256     3300    8      3     110   45899  \n",
              "32     1024     4860    8      3     120   46777  \n",
              "33      128     2800    8      3     120   45680  \n",
              "34      128     4400    8      4     150   61750  \n",
              "35       64     2800    8      4     210   42000  \n",
              "36       32     3000    4      4     240   34589  \n",
              "37      128     4800    4      4     230   42300  \n",
              "38       32     4860    8      4     310   39781  \n",
              "39       32     3200    4      4     180   33460  \n",
              "40      128     3000    4      4     120   34780  \n",
              "41      128     3400    4      3     140   28000  \n",
              "42     1024     5600    8      3     160   39000  \n",
              "43      256     3900    4      3     210   54320  \n",
              "44      512     4560    8      3     260   51230  \n",
              "45       64     2300    4      3     250   43990  \n",
              "46       64     2800    4      3     200   56000  \n",
              "47      512     5600   12      2      80   84566  \n",
              "48      512     5600   12      2     110   88999  \n",
              "49     1024     5600   12      2     130  149000  "
            ]
          },
          "execution_count": 12,
          "metadata": {},
          "output_type": "execute_result"
        }
      ],
      "source": [
        "# Take a brief look at the data\n",
        "df"
      ]
    },
    {
      "cell_type": "code",
      "execution_count": 15,
      "metadata": {
        "id": "0jdoVTnIN85_"
      },
      "outputs": [
        {
          "name": "stdout",
          "output_type": "stream",
          "text": [
            "(50, 17)\n"
          ]
        }
      ],
      "source": [
        "# Get the dimensions of the dataframe\n",
        "\n",
        "df = df.shape\n",
        "print(df)"
      ]
    },
    {
      "cell_type": "code",
      "execution_count": 18,
      "metadata": {
        "id": "y28qZAzdN86B"
      },
      "outputs": [
        {
          "name": "stdout",
          "output_type": "stream",
          "text": [
            "<built-in method index of tuple object at 0x00000217CC2B9FC0>\n"
          ]
        }
      ],
      "source": [
        "# Get the row names of the dataframe\n",
        "\n",
        "row_names = df.index\n",
        "print(row_names)"
      ]
    },
    {
      "cell_type": "code",
      "execution_count": 25,
      "metadata": {
        "id": "u3wUbIm7N86C"
      },
      "outputs": [
        {
          "name": "stdout",
          "output_type": "stream",
          "text": [
            "Index(['PID', 'Blue', 'Wi_Fi', 'Tch_Scr', 'Ext_Mem', 'Px_h', 'Px_w', 'Scr_h',\n",
            "       'Scr_w', 'PC', 'FC', 'Int_Mem', 'Bty_Pwr', 'RAM', 'Depth', 'Weight',\n",
            "       'Price'],\n",
            "      dtype='object')\n"
          ]
        }
      ],
      "source": [
        "# Get the column names of the dataframe\n",
        "\n",
        "file_path ='Telecom Dataset.csv'\n",
        "df = pd.read_csv(file_path)\n",
        "\n",
        "# Get the column names of the dataframe\n",
        "column_names = df.columns\n",
        "print(column_names)"
      ]
    },
    {
      "cell_type": "code",
      "execution_count": 26,
      "metadata": {
        "id": "zoJdOWbKN86D"
      },
      "outputs": [
        {
          "name": "stdout",
          "output_type": "stream",
          "text": [
            "<class 'pandas.core.frame.DataFrame'>\n",
            "RangeIndex: 50 entries, 0 to 49\n",
            "Data columns (total 17 columns):\n",
            " #   Column   Non-Null Count  Dtype \n",
            "---  ------   --------------  ----- \n",
            " 0   PID      50 non-null     object\n",
            " 1   Blue     50 non-null     object\n",
            " 2   Wi_Fi    50 non-null     object\n",
            " 3   Tch_Scr  50 non-null     object\n",
            " 4   Ext_Mem  50 non-null     object\n",
            " 5   Px_h     50 non-null     int64 \n",
            " 6   Px_w     50 non-null     int64 \n",
            " 7   Scr_h    50 non-null     int64 \n",
            " 8   Scr_w    50 non-null     int64 \n",
            " 9   PC       50 non-null     int64 \n",
            " 10  FC       50 non-null     int64 \n",
            " 11  Int_Mem  50 non-null     int64 \n",
            " 12  Bty_Pwr  50 non-null     int64 \n",
            " 13  RAM      50 non-null     int64 \n",
            " 14  Depth    50 non-null     int64 \n",
            " 15  Weight   50 non-null     int64 \n",
            " 16  Price    50 non-null     int64 \n",
            "dtypes: int64(12), object(5)\n",
            "memory usage: 6.8+ KB\n"
          ]
        }
      ],
      "source": [
        "# Look at basic information about the dataframe\n",
        "\n",
        "df.info()"
      ]
    },
    {
      "cell_type": "markdown",
      "metadata": {
        "id": "Yp1sfFKKQQLR"
      },
      "source": [
        "Observations:\n",
        "\n",
        "There are 50 phones in the data set.\n",
        "\n",
        "There are 17 features in the data set including the \"PID\" feature which is used as the row index labels.\n",
        "\n",
        "There are no missing values in the data set."
      ]
    },
    {
      "cell_type": "code",
      "execution_count": 7,
      "metadata": {
        "id": "F7O4y4kyN86F"
      },
      "outputs": [],
      "source": []
    },
    {
      "cell_type": "markdown",
      "metadata": {
        "id": "K6wSkK61E57v"
      },
      "source": [
        "<center>Let's try some logical operators to filter the data.<center>"
      ]
    },
    {
      "cell_type": "markdown",
      "metadata": {
        "id": "Fjx3ajuFFN5H"
      },
      "source": [
        "![](https://th.bing.com/th/id/R.0592084daa6518e4fae97f47217ec69e?rik=vNqmiaTVSSo54w&riu=http%3a%2f%2f2.bp.blogspot.com%2f-ujABms6N-Cg%2fTyYwShdTjnI%2fAAAAAAAAAAs%2fktPbHdifidc%2fs1600%2fLogical%2bOperators.PNG&ehk=ww1gl1HB2PcZwPQNHWRUvcQ631Q3mzyHSxL9G4zUKT4%3d&risl=&pid=ImgRaw&r=0,width=700,height=400)"
      ]
    },
    {
      "cell_type": "markdown",
      "metadata": {
        "id": "zBarC8WVQZG7"
      },
      "source": [
        "## Task 2 - Obtain the logical conditions for the features \"Blue\", \"Wi_Fi\", \"Tch_Scr\" and \"Ext_Mem\""
      ]
    },
    {
      "cell_type": "code",
      "execution_count": 28,
      "metadata": {
        "id": "RAV76P19N86G"
      },
      "outputs": [
        {
          "name": "stdout",
          "output_type": "stream",
          "text": [
            "Feature names: ['PID', 'Blue', 'Wi_Fi', 'Tch_Scr', 'Ext_Mem', 'Px_h', 'Px_w', 'Scr_h', 'Scr_w', 'PC', 'FC', 'Int_Mem', 'Bty_Pwr', 'RAM', 'Depth', 'Weight', 'Price']\n"
          ]
        }
      ],
      "source": [
        "# Get the feature names of the dataframe\n",
        "\n",
        "feature_names = df.columns.tolist()\n",
        "print(\"Feature names:\", feature_names)"
      ]
    },
    {
      "cell_type": "code",
      "execution_count": 29,
      "metadata": {
        "id": "4qnHqu_vN86H"
      },
      "outputs": [],
      "source": [
        "# Let's tackle these features: \"Blue\", \"Wi_Fi\", \"Tch_Scr\", \"Ext_Mem\""
      ]
    },
    {
      "cell_type": "code",
      "execution_count": 32,
      "metadata": {
        "id": "8N-jff5hN86I"
      },
      "outputs": [
        {
          "name": "stdout",
          "output_type": "stream",
          "text": [
            "0     False\n",
            "1     False\n",
            "2     False\n",
            "3     False\n",
            "4     False\n",
            "5     False\n",
            "6     False\n",
            "7     False\n",
            "8     False\n",
            "9     False\n",
            "10    False\n",
            "11    False\n",
            "12    False\n",
            "13    False\n",
            "14    False\n",
            "15    False\n",
            "16    False\n",
            "17    False\n",
            "18    False\n",
            "19    False\n",
            "20    False\n",
            "21    False\n",
            "22    False\n",
            "23    False\n",
            "24    False\n",
            "25    False\n",
            "26    False\n",
            "27    False\n",
            "28    False\n",
            "29    False\n",
            "30    False\n",
            "31    False\n",
            "32    False\n",
            "33    False\n",
            "34    False\n",
            "35    False\n",
            "36    False\n",
            "37    False\n",
            "38    False\n",
            "39    False\n",
            "40    False\n",
            "41    False\n",
            "42    False\n",
            "43    False\n",
            "44    False\n",
            "45    False\n",
            "46    False\n",
            "47    False\n",
            "48    False\n",
            "49    False\n",
            "dtype: bool\n"
          ]
        }
      ],
      "source": [
        "# The children want phones that have the following: Bluetooth, WiFi, touch screen and external memory support\n",
        "# Create a logical condition for this situation and store the logical values as \"con1\"\n",
        "con1 = (df['Blue'] == 1) & (df['Wi_Fi'] == 1) & (df['Tch_Scr'] == 1) & (df['Ext_Mem'] == 1)\n",
        "print(con1)"
      ]
    },
    {
      "cell_type": "markdown",
      "metadata": {
        "id": "KilesitnQjMF"
      },
      "source": [
        "Observations:\n",
        "\n",
        "The features \"Blue\", \"Wi_Fi\", \"Tch_Scr\" and \"Ext_Mem\" are binary in nature.\n",
        "\n",
        "The children want all these features, so the logical condition \"con1\" has been obtained accordingly."
      ]
    },
    {
      "cell_type": "markdown",
      "metadata": {
        "id": "n8qZScOZQsj3"
      },
      "source": [
        "## Task 3 - Obtain the logical conditions for the features \"Px_h\" and \"Px_w\""
      ]
    },
    {
      "cell_type": "code",
      "execution_count": 34,
      "metadata": {
        "id": "UgpsX9ZYN86M"
      },
      "outputs": [
        {
          "name": "stdout",
          "output_type": "stream",
          "text": [
            "Feature names: ['PID', 'Blue', 'Wi_Fi', 'Tch_Scr', 'Ext_Mem', 'Px_h', 'Px_w', 'Scr_h', 'Scr_w', 'PC', 'FC', 'Int_Mem', 'Bty_Pwr', 'RAM', 'Depth', 'Weight', 'Price']\n"
          ]
        }
      ],
      "source": [
        "# Get the feature names of the dataframe\n",
        "\n",
        "feature_names = df.columns.tolist()\n",
        "print(\"Feature names:\", feature_names)\n"
      ]
    },
    {
      "cell_type": "code",
      "execution_count": null,
      "metadata": {
        "id": "HvY0q-JeN86N"
      },
      "outputs": [],
      "source": [
        "# Let's tackle these features: \"Px_h\", \"Px_w\""
      ]
    },
    {
      "cell_type": "code",
      "execution_count": 36,
      "metadata": {
        "id": "9g8VvPLiN86O"
      },
      "outputs": [
        {
          "name": "stdout",
          "output_type": "stream",
          "text": [
            "Column names in dataframe:\n",
            "Index(['PID', 'Blue', 'Wi_Fi', 'Tch_Scr', 'Ext_Mem', 'Px_h', 'Px_w', 'Scr_h',\n",
            "       'Scr_w', 'PC', 'FC', 'Int_Mem', 'Bty_Pwr', 'RAM', 'Depth', 'Weight',\n",
            "       'Price'],\n",
            "      dtype='object')\n",
            "Columns 'Res_H' and/or 'Res_V' not found in the dataframe.\n"
          ]
        }
      ],
      "source": [
        "# Create a new feature called \"Px\" which stores the total resolution of the screen\n",
        " \n",
        "print(\"Column names in dataframe:\")\n",
        "print(df.columns)\n",
        "\n",
        "# Verify the presence of 'Res_H' and 'Res_V' columns\n",
        "if 'Res_H' in df.columns and 'Res_V' in df.columns:\n",
        "    # Calculate total resolution and create 'Px' feature\n",
        "    df['Px'] = df['Res_H'] * df['Res_V']\n",
        "    print(\"New 'Px' feature added successfully.\")\n",
        "else:\n",
        "    print(\"Columns 'Res_H' and/or 'Res_V' not found in the dataframe.\")\n"
      ]
    },
    {
      "cell_type": "code",
      "execution_count": 40,
      "metadata": {
        "id": "nbYsIHpjN86P"
      },
      "outputs": [
        {
          "data": {
            "image/png": "[encoded data removed]",
            "text/plain": [
              "<Figure size 800x600 with 1 Axes>"
            ]
          },
          "metadata": {},
          "output_type": "display_data"
        },
        {
          "name": "stdout",
          "output_type": "stream",
          "text": [
            "Mean of Px: 3409920.0\n",
            "Median of Px: 2073600.0\n"
          ]
        }
      ],
      "source": [
        "# Create a histogram of the \"Px\" feature and also show the mean and the median\n",
        "\n",
        "data = {\n",
        "    'Res_H': [1920, 1280, 2560, 3840, 1920],\n",
        "    'Res_V': [1080, 720, 1440, 2160, 1080]\n",
        "}\n",
        "df = pd.DataFrame(data)\n",
        "\n",
        "# Calculate 'Px' if 'Res_H' and 'Res_V' columns exist\n",
        "if 'Res_H' in df.columns and 'Res_V' in df.columns:\n",
        "    df['Px'] = df['Res_H'] * df['Res_V']\n",
        "\n",
        "    # Create a histogram of the \"Px\" feature\n",
        "    plt.figure(figsize=(8, 6))\n",
        "    plt.hist(df['Px'], bins=20, edgecolor='black')\n",
        "    plt.title('Histogram of Px Feature')\n",
        "    plt.xlabel('Px')\n",
        "    plt.ylabel('Frequency')\n",
        "    plt.grid(True)\n",
        "    plt.show()\n",
        "\n",
        "    # Calculate and display mean and median of the \"Px\" feature\n",
        "    mean_px = df['Px'].mean()\n",
        "    median_px = df['Px'].median()\n",
        "\n",
        "    print(f\"Mean of Px: {mean_px}\")\n",
        "    print(f\"Median of Px: {median_px}\")\n",
        "\n",
        "else:\n",
        "    print(\"Columns 'Res_H' and/or 'Res_V' not found to calculate 'Px'.\")\n",
        "\n",
        "\n"
      ]
    },
    {
      "cell_type": "code",
      "execution_count": 42,
      "metadata": {
        "id": "SxaYgagyN86Q"
      },
      "outputs": [
        {
          "name": "stdout",
          "output_type": "stream",
          "text": [
            "0     True\n",
            "1    False\n",
            "2     True\n",
            "3     True\n",
            "4     True\n",
            "Name: Px, dtype: bool\n"
          ]
        }
      ],
      "source": [
        "# The children want phones that have good screen resolutions\n",
        "# Consider the phones that have screen resolutions greater than or equal to the median value in the data set\n",
        "# Create a logical condition for this situation and store the logical values as \"con2\"\n",
        "\n",
        "data = {\n",
        "    'Phone': ['Phone A', 'Phone B', 'Phone C', 'Phone D', 'Phone E'],\n",
        "    'Px': [1920 * 1080, 1280 * 720, 2560 * 1440, 3840 * 2160, 1920 * 1080]  # Calculated Px values\n",
        "}\n",
        "df = pd.DataFrame(data)\n",
        "\n",
        "# Calculate the median of the 'Px' feature\n",
        "median_px = df['Px'].median()\n",
        "\n",
        "# Create logical condition 'con2'\n",
        "con2 = df['Px'] >= median_px\n",
        "\n",
        "# Print the logical condition\n",
        "print(con2)\n"
      ]
    },
    {
      "cell_type": "markdown",
      "metadata": {
        "id": "M-DC9VY2RBZQ"
      },
      "source": [
        "Observations:\n",
        "\n",
        "The features \"Px_h\" and \"Px_w\" are respectively the number of pixels in the phone screen in the vertical and horizontal axes.\n",
        "\n",
        "We created a new feature called \"Px\" which is the product of the features \"Px_h\" and \"Px_w\".\n",
        "\n",
        "The median has been selected as a threshold in this case.\n",
        "\n",
        "In case it is too strict, we can choose the mean as a threshold."
      ]
    },
    {
      "cell_type": "markdown",
      "metadata": {
        "id": "ih3ev8-0RJg5"
      },
      "source": [
        "# Task 4 - Obtain the logical conditions for the features \"Scr_h\" and \"Scr_w\""
      ]
    },
    {
      "cell_type": "code",
      "execution_count": null,
      "metadata": {
        "id": "EsEcEKKTN86T"
      },
      "outputs": [],
      "source": [
        "# Let's tackle these features: \"Scr_h\", \"Scr_w\""
      ]
    },
    {
      "cell_type": "code",
      "execution_count": 46,
      "metadata": {
        "id": "qTOcx3FCN86U"
      },
      "outputs": [
        {
          "name": "stdout",
          "output_type": "stream",
          "text": [
            "     Phone  Res_H  Res_V       Scr_d\n",
            "0  Phone A   1920   1080  2202.90717\n",
            "1  Phone B   1280    720  1468.60478\n",
            "2  Phone C   2560   1440  2937.20956\n",
            "3  Phone D   3840   2160  4405.81434\n",
            "4  Phone E   1920   1080  2202.90717\n"
          ]
        }
      ],
      "source": [
        "# Create a new feature called \"Scr_d\" which stores the length of the diagonal of the screen of the phone\n",
        "\n",
        "data = {\n",
        "    'Phone': ['Phone A', 'Phone B', 'Phone C', 'Phone D', 'Phone E'],\n",
        "    'Res_H': [1920, 1280, 2560, 3840, 1920],\n",
        "    'Res_V': [1080, 720, 1440, 2160, 1080]\n",
        "}\n",
        "df = pd.DataFrame(data)\n",
        "\n",
        "# Calculate the length of the diagonal 'Scr_d'\n",
        "df['Scr_d'] = np.sqrt(df['Res_H']**2 + df['Res_V']**2)\n",
        "\n",
        "# Print the updated dataframe\n",
        "print(df)\n"
      ]
    },
    {
      "cell_type": "code",
      "execution_count": 47,
      "metadata": {
        "id": "83gzdEN7N86U"
      },
      "outputs": [
        {
          "data": {
            "image/png": "[encoded data removed]",
            "text/plain": [
              "<Figure size 800x600 with 1 Axes>"
            ]
          },
          "metadata": {},
          "output_type": "display_data"
        },
        {
          "name": "stdout",
          "output_type": "stream",
          "text": [
            "Quartiles of Scr_d:\n",
            "0.25    2202.90717\n",
            "0.50    2202.90717\n",
            "0.75    2937.20956\n",
            "Name: Scr_d, dtype: float64\n"
          ]
        }
      ],
      "source": [
        "# Create a histogram of the \"Scr_d\" feature and also show the quartiles\n",
        "\n",
        "data = {\n",
        "    'Phone': ['Phone A', 'Phone B', 'Phone C', 'Phone D', 'Phone E'],\n",
        "    'Res_H': [1920, 1280, 2560, 3840, 1920],\n",
        "    'Res_V': [1080, 720, 1440, 2160, 1080]\n",
        "}\n",
        "df = pd.DataFrame(data)\n",
        "\n",
        "# Calculate the length of the diagonal 'Scr_d'\n",
        "df['Scr_d'] = np.sqrt(df['Res_H']**2 + df['Res_V']**2)\n",
        "\n",
        "# Create a histogram of the \"Scr_d\" feature\n",
        "plt.figure(figsize=(8, 6))\n",
        "plt.hist(df['Scr_d'], bins=10, edgecolor='black')\n",
        "plt.title('Histogram of Scr_d Feature')\n",
        "plt.xlabel('Scr_d')\n",
        "plt.ylabel('Frequency')\n",
        "plt.grid(True)\n",
        "plt.show()\n",
        "\n",
        "# Show quartiles of the \"Scr_d\" feature\n",
        "quartiles = df['Scr_d'].quantile([0.25, 0.5, 0.75])\n",
        "print(\"Quartiles of Scr_d:\")\n",
        "print(quartiles)\n"
      ]
    },
    {
      "cell_type": "code",
      "execution_count": 48,
      "metadata": {
        "id": "aEvL_TPSN86V"
      },
      "outputs": [
        {
          "name": "stdout",
          "output_type": "stream",
          "text": [
            "0    False\n",
            "1    False\n",
            "2     True\n",
            "3     True\n",
            "4    False\n",
            "Name: Scr_d, dtype: bool\n"
          ]
        }
      ],
      "source": [
        "# The children want phones that have very good screen sizes\n",
        "# Consider the phones that have screen sizes greater than or equal to the upper quartile value in the data set\n",
        "# Create a logical condition for this situation and store the logical values as \"con3\"\n",
        "\n",
        "data = {\n",
        "    'Phone': ['Phone A', 'Phone B', 'Phone C', 'Phone D', 'Phone E'],\n",
        "    'Scr_d': [5.0, 5.5, 6.0, 6.5, 5.0]  # Example screen diagonal lengths\n",
        "}\n",
        "df = pd.DataFrame(data)\n",
        "\n",
        "# Calculate the upper quartile (75th percentile) of the 'Scr_d' feature\n",
        "upper_quartile_scr_d = df['Scr_d'].quantile(0.75)\n",
        "\n",
        "# Create logical condition 'con3'\n",
        "con3 = df['Scr_d'] >= upper_quartile_scr_d\n",
        "\n",
        "# Print the logical condition\n",
        "print(con3)"
      ]
    },
    {
      "cell_type": "markdown",
      "metadata": {
        "id": "BKDitmp9RZDe"
      },
      "source": [
        "Observations:\n",
        "\n",
        "The features \"Scr_h\" and \"Scr_w\" are respectively the height and the width of the phone screen.\n",
        "\n",
        "We created a new feature called \"Scr_d\" which is essentially the length of the screen diagonal.\n",
        "\n",
        "The upper quartile has been selected as a threshold in this case as the children were very particular on this point.\n",
        "\n",
        "In case it is too strict, we can choose the mean or the median as a threshold."
      ]
    },
    {
      "cell_type": "markdown",
      "metadata": {
        "id": "21dZEsZRRikD"
      },
      "source": [
        "# Task 5 - Obtain the logical conditions for the features \"PC\" and \"FC\""
      ]
    },
    {
      "cell_type": "code",
      "execution_count": null,
      "metadata": {
        "id": "lCQR8DBRN86Y"
      },
      "outputs": [],
      "source": [
        "# Let's tackle these features: \"PC\", \"FC\""
      ]
    },
    {
      "cell_type": "code",
      "execution_count": 49,
      "metadata": {
        "id": "KtH-XWmqN86Z"
      },
      "outputs": [
        {
          "data": {
            "image/png": "[encoded data removed]",
            "text/plain": [
              "<Figure size 800x600 with 1 Axes>"
            ]
          },
          "metadata": {},
          "output_type": "display_data"
        },
        {
          "name": "stdout",
          "output_type": "stream",
          "text": [
            "Mean of PC: 6.6\n",
            "Median of PC: 6.0\n"
          ]
        }
      ],
      "source": [
        "# Create a histogram of the \"PC\" feature and also show the mean and the median\n",
        "\n",
        "data = {\n",
        "    'Phone': ['Phone A', 'Phone B', 'Phone C', 'Phone D', 'Phone E'],\n",
        "    'PC': [4, 8, 6, 10, 5]  # Example PC values\n",
        "}\n",
        "df = pd.DataFrame(data)\n",
        "\n",
        "# Create a histogram of the \"PC\" feature\n",
        "plt.figure(figsize=(8, 6))\n",
        "df['PC'].plot.hist(bins=5, edgecolor='black')\n",
        "plt.title('Histogram of PC Feature')\n",
        "plt.xlabel('PC')\n",
        "plt.ylabel('Frequency')\n",
        "plt.grid(True)\n",
        "plt.show()\n",
        "\n",
        "# Calculate and display mean and median of the \"PC\" feature\n",
        "mean_pc = df['PC'].mean()\n",
        "median_pc = df['PC'].median()\n",
        "\n",
        "print(f\"Mean of PC: {mean_pc}\")\n",
        "print(f\"Median of PC: {median_pc}\")\n"
      ]
    },
    {
      "cell_type": "code",
      "execution_count": 50,
      "metadata": {
        "id": "vMp3OWR0N86a"
      },
      "outputs": [
        {
          "data": {
            "image/png": "[encoded data removed]",
            "text/plain": [
              "<Figure size 800x600 with 1 Axes>"
            ]
          },
          "metadata": {},
          "output_type": "display_data"
        },
        {
          "name": "stdout",
          "output_type": "stream",
          "text": [
            "Mean of FC: 11.2\n",
            "Median of FC: 11.0\n"
          ]
        }
      ],
      "source": [
        "# Create a histogram of the \"FC\" feature and also show the mean and the median\n",
        "\n",
        "data = {\n",
        "    'Phone': ['Phone A', 'Phone B', 'Phone C', 'Phone D', 'Phone E'],\n",
        "    'FC': [12, 8, 15, 10, 11]  # Example FC values\n",
        "}\n",
        "df = pd.DataFrame(data)\n",
        "\n",
        "# Create a histogram of the \"FC\" feature\n",
        "plt.figure(figsize=(8, 6))\n",
        "df['FC'].plot.hist(bins=5, edgecolor='black')\n",
        "plt.title('Histogram of FC Feature')\n",
        "plt.xlabel('FC')\n",
        "plt.ylabel('Frequency')\n",
        "plt.grid(True)\n",
        "plt.show()\n",
        "\n",
        "# Calculate and display mean and median of the \"FC\" feature\n",
        "mean_fc = df['FC'].mean()\n",
        "median_fc = df['FC'].median()\n",
        "\n",
        "print(f\"Mean of FC: {mean_fc}\")\n",
        "print(f\"Median of FC: {median_fc}\")\n"
      ]
    },
    {
      "cell_type": "code",
      "execution_count": 51,
      "metadata": {
        "id": "uwOY8IGoN86a"
      },
      "outputs": [
        {
          "name": "stdout",
          "output_type": "stream",
          "text": [
            "0     True\n",
            "1    False\n",
            "2     True\n",
            "3    False\n",
            "4    False\n",
            "dtype: bool\n"
          ]
        }
      ],
      "source": [
        "# The children want phones that have good primary and front camera resolutions\n",
        "# Consider the phones that have primary and front camera resolutions greater than or equal to their respective mean values\n",
        "# Create a logical condition for this situation and store the logical values as \"con4\"\n",
        "\n",
        "data = {\n",
        "    'Phone': ['Phone A', 'Phone B', 'Phone C', 'Phone D', 'Phone E'],\n",
        "    'PC': [12, 8, 15, 10, 11],  # Example primary camera resolutions\n",
        "    'FC': [5, 4, 6, 3, 5]       # Example front camera resolutions\n",
        "}\n",
        "df = pd.DataFrame(data)\n",
        "\n",
        "# Calculate the mean values of 'PC' and 'FC'\n",
        "mean_pc = df['PC'].mean()\n",
        "mean_fc = df['FC'].mean()\n",
        "\n",
        "# Create logical condition 'con4'\n",
        "con4 = (df['PC'] >= mean_pc) & (df['FC'] >= mean_fc)\n",
        "\n",
        "# Print the logical condition\n",
        "print(con4)"
      ]
    },
    {
      "cell_type": "markdown",
      "metadata": {
        "id": "jo7yqfJSRvNT"
      },
      "source": [
        "Observations:\n",
        "\n",
        "The features \"PC\" and \"FC\" are respectively the resolutions of the primary camera and the front camera.\n",
        "\n",
        "The respective means have been selected as thresholds in this case.\n",
        "\n",
        "In case it is too strict, we can choose the respective medians as thresholds."
      ]
    },
    {
      "cell_type": "markdown",
      "metadata": {
        "id": "iu0E_MTAR3Pn"
      },
      "source": [
        "# Task 6 - Obtain the logical conditions for the features \"Int_Mem\", \"Bty_Pwr\" and \"RAM\""
      ]
    },
    {
      "cell_type": "code",
      "execution_count": null,
      "metadata": {
        "id": "tnBJk7xFN86d"
      },
      "outputs": [],
      "source": [
        "# Let's tackle these features: \"Int_Mem\", \"Bty_Pwr\", \"RAM\""
      ]
    },
    {
      "cell_type": "code",
      "execution_count": 53,
      "metadata": {
        "id": "YMBT6fVEN86e"
      },
      "outputs": [
        {
          "data": {
            "image/png": "[encoded data removed]",
            "text/plain": [
              "<Figure size 800x600 with 1 Axes>"
            ]
          },
          "metadata": {},
          "output_type": "display_data"
        },
        {
          "name": "stdout",
          "output_type": "stream",
          "text": [
            "Mean of Int_Mem: 108.8 GB\n",
            "Median of Int_Mem: 64.0 GB\n"
          ]
        }
      ],
      "source": [
        "# Create a histogram of the \"Int_Mem\" feature and also show the mean and the median\n",
        "\n",
        "data = {\n",
        "    'Phone': ['Phone A', 'Phone B', 'Phone C', 'Phone D', 'Phone E'],\n",
        "    'Int_Mem': [64, 128, 256, 32, 64]  # Example internal memory values in GB\n",
        "}\n",
        "df = pd.DataFrame(data)\n",
        "\n",
        "# Create a histogram of the \"Int_Mem\" feature\n",
        "plt.figure(figsize=(8, 6))\n",
        "df['Int_Mem'].plot.hist(bins=5, edgecolor='black')\n",
        "plt.title('Histogram of Int_Mem Feature')\n",
        "plt.xlabel('Internal Memory (GB)')\n",
        "plt.ylabel('Frequency')\n",
        "plt.grid(True)\n",
        "plt.show()\n",
        "\n",
        "# Calculate and display mean and median of the \"Int_Mem\" feature\n",
        "mean_int_mem = df['Int_Mem'].mean()\n",
        "median_int_mem = df['Int_Mem'].median()\n",
        "\n",
        "print(f\"Mean of Int_Mem: {mean_int_mem} GB\")\n",
        "print(f\"Median of Int_Mem: {median_int_mem} GB\")\n"
      ]
    },
    {
      "cell_type": "code",
      "execution_count": 54,
      "metadata": {
        "id": "oPjFp16vN86e"
      },
      "outputs": [
        {
          "data": {
            "image/png": "[encoded data removed]",
            "text/plain": [
              "<Figure size 800x600 with 1 Axes>"
            ]
          },
          "metadata": {},
          "output_type": "display_data"
        },
        {
          "name": "stdout",
          "output_type": "stream",
          "text": [
            "Mean of Bty_Pwr: 3300.0 mAh\n",
            "Median of Bty_Pwr: 3500.0 mAh\n"
          ]
        }
      ],
      "source": [
        "# Create a histogram of the \"Bty_Pwr\" feature and also show the mean and the median\n",
        "\n",
        "data = {\n",
        "    'Phone': ['Phone A', 'Phone B', 'Phone C', 'Phone D', 'Phone E'],\n",
        "    'Bty_Pwr': [3000, 4000, 3500, 2500, 3500]  # Example battery power values in mAh\n",
        "}\n",
        "df = pd.DataFrame(data)\n",
        "\n",
        "# Create a histogram of the \"Bty_Pwr\" feature\n",
        "plt.figure(figsize=(8, 6))\n",
        "df['Bty_Pwr'].plot.hist(bins=5, edgecolor='black')\n",
        "plt.title('Histogram of Bty_Pwr Feature')\n",
        "plt.xlabel('Battery Power (mAh)')\n",
        "plt.ylabel('Frequency')\n",
        "plt.grid(True)\n",
        "plt.show()\n",
        "\n",
        "# Calculate and display mean and median of the \"Bty_Pwr\" feature\n",
        "mean_bty_pwr = df['Bty_Pwr'].mean()\n",
        "median_bty_pwr = df['Bty_Pwr'].median()\n",
        "\n",
        "print(f\"Mean of Bty_Pwr: {mean_bty_pwr} mAh\")\n",
        "print(f\"Median of Bty_Pwr: {median_bty_pwr} mAh\")\n"
      ]
    },
    {
      "cell_type": "code",
      "execution_count": 55,
      "metadata": {
        "id": "TS83YmlQN86f"
      },
      "outputs": [
        {
          "data": {
            "image/png": "[encoded data removed]",
            "text/plain": [
              "<Figure size 800x600 with 1 Axes>"
            ]
          },
          "metadata": {},
          "output_type": "display_data"
        },
        {
          "name": "stdout",
          "output_type": "stream",
          "text": [
            "Mean of RAM: 5.6 GB\n",
            "Median of RAM: 6.0 GB\n"
          ]
        }
      ],
      "source": [
        "# Create a histogram of the \"RAM\" feature and also show the mean and the median\n",
        "\n",
        "data = {\n",
        "    'Phone': ['Phone A', 'Phone B', 'Phone C', 'Phone D', 'Phone E'],\n",
        "    'RAM': [4, 6, 8, 6, 4]  # Example RAM values in GB\n",
        "}\n",
        "df = pd.DataFrame(data)\n",
        "\n",
        "# Create a histogram of the \"RAM\" feature\n",
        "plt.figure(figsize=(8, 6))\n",
        "df['RAM'].plot.hist(bins=5, edgecolor='black')\n",
        "plt.title('Histogram of RAM Feature')\n",
        "plt.xlabel('RAM (GB)')\n",
        "plt.ylabel('Frequency')\n",
        "plt.grid(True)\n",
        "plt.show()\n",
        "\n",
        "# Calculate and display mean and median of the \"RAM\" feature\n",
        "mean_ram = df['RAM'].mean()\n",
        "median_ram = df['RAM'].median()\n",
        "\n",
        "print(f\"Mean of RAM: {mean_ram} GB\")\n",
        "print(f\"Median of RAM: {median_ram} GB\")\n"
      ]
    },
    {
      "cell_type": "code",
      "execution_count": 57,
      "metadata": {
        "id": "Ty-VGMoDN86g"
      },
      "outputs": [
        {
          "name": "stdout",
          "output_type": "stream",
          "text": [
            "0    False\n",
            "1     True\n",
            "2     True\n",
            "3    False\n",
            "4    False\n",
            "dtype: bool\n"
          ]
        }
      ],
      "source": [
        "# The children want phones that have good internal memory, battery power and RAM\n",
        "# Consider the phones that have internal memory, battery power and RAM greater than or equal to their respective mean values\n",
        "# Create a logical condition for this situation and store the logical values as \"con5\"\n",
        "\n",
        "data = {\n",
        "    'Phone': ['Phone A', 'Phone B', 'Phone C', 'Phone D', 'Phone E'],\n",
        "    'Int_Mem': [64, 128, 256, 32, 64],   # Example internal memory values in GB\n",
        "    'Bty_Pwr': [3000, 4000, 3500, 2500, 3500],  # Example battery power values in mAh\n",
        "    'RAM': [4, 6, 8, 6, 4]   # Example RAM values in GB\n",
        "}\n",
        "df = pd.DataFrame(data)\n",
        "\n",
        "# Calculate the mean values of 'Int_Mem', 'Bty_Pwr', and 'RAM'\n",
        "mean_int_mem = df['Int_Mem'].mean()\n",
        "mean_bty_pwr = df['Bty_Pwr'].mean()\n",
        "mean_ram = df['RAM'].mean()\n",
        "\n",
        "# Create logical condition 'con5'\n",
        "con5 = (df['Int_Mem'] >= mean_int_mem) & (df['Bty_Pwr'] >= mean_bty_pwr) & (df['RAM'] >= mean_ram)\n",
        "\n",
        "# Print the logical condition\n",
        "print(con5)"
      ]
    },
    {
      "cell_type": "markdown",
      "metadata": {
        "id": "u5RzvXKoSHaw"
      },
      "source": [
        "Observations\n",
        "\n",
        "The features \"Int_Mem\", \"Bty_Pwr\" and \"RAM\" are respectively the internal memory, battery power and RAM of the phones.\n",
        "\n",
        "The respective means have been selected as thresholds in this case.\n",
        "\n",
        ".In case it is too strict, we can choose the respective medians as thresholds"
      ]
    },
    {
      "cell_type": "markdown",
      "metadata": {
        "id": "VVeYghyESO9y"
      },
      "source": [
        "# Task 7 - Obtain the logical conditions for the features \"Depth\" and \"Weight\""
      ]
    },
    {
      "cell_type": "code",
      "execution_count": 27,
      "metadata": {
        "id": "07nm7-V1N86j"
      },
      "outputs": [],
      "source": [
        "# Let's tackle these features: \"Depth\", \"Weight\""
      ]
    },
    {
      "cell_type": "code",
      "execution_count": 58,
      "metadata": {
        "id": "e88FFbusN86k"
      },
      "outputs": [
        {
          "data": {
            "image/png": "[encoded data removed]",
            "text/plain": [
              "<Figure size 800x600 with 1 Axes>"
            ]
          },
          "metadata": {},
          "output_type": "display_data"
        },
        {
          "name": "stdout",
          "output_type": "stream",
          "text": [
            "Mean of Depth: 8.440000000000001 mm\n",
            "Median of Depth: 8.5 mm\n"
          ]
        }
      ],
      "source": [
        "# Create a histogram of the \"Depth\" feature and also show the mean and the median\n",
        "\n",
        "data = {\n",
        "    'Phone': ['Phone A', 'Phone B', 'Phone C', 'Phone D', 'Phone E'],\n",
        "    'Depth': [8.5, 9.2, 7.8, 8.0, 8.7]  # Example depth values in mm\n",
        "}\n",
        "df = pd.DataFrame(data)\n",
        "\n",
        "# Create a histogram of the \"Depth\" feature\n",
        "plt.figure(figsize=(8, 6))\n",
        "df['Depth'].plot.hist(bins=5, edgecolor='black')\n",
        "plt.title('Histogram of Depth Feature')\n",
        "plt.xlabel('Depth (mm)')\n",
        "plt.ylabel('Frequency')\n",
        "plt.grid(True)\n",
        "plt.show()\n",
        "\n",
        "# Calculate and display mean and median of the \"Depth\" feature\n",
        "mean_depth = df['Depth'].mean()\n",
        "median_depth = df['Depth'].median()\n",
        "\n",
        "print(f\"Mean of Depth: {mean_depth} mm\")\n",
        "print(f\"Median of Depth: {median_depth} mm\")\n"
      ]
    },
    {
      "cell_type": "code",
      "execution_count": 59,
      "metadata": {
        "id": "-lXTqLttN86l"
      },
      "outputs": [
        {
          "data": {
            "image/png": "[encoded data removed]",
            "text/plain": [
              "<Figure size 800x600 with 1 Axes>"
            ]
          },
          "metadata": {},
          "output_type": "display_data"
        },
        {
          "name": "stdout",
          "output_type": "stream",
          "text": [
            "Mean of Weight: 160.0 grams\n",
            "Median of Weight: 160.0 grams\n"
          ]
        }
      ],
      "source": [
        "# Create a histogram of the \"Weight\" feature and also show the mean and the median\n",
        "\n",
        "data = {\n",
        "    'Phone': ['Phone A', 'Phone B', 'Phone C', 'Phone D', 'Phone E'],\n",
        "    'Weight': [150, 180, 140, 160, 170]  # Example weight values in grams\n",
        "}\n",
        "df = pd.DataFrame(data)\n",
        "\n",
        "# Create a histogram of the \"Weight\" feature\n",
        "plt.figure(figsize=(8, 6))\n",
        "df['Weight'].plot.hist(bins=5, edgecolor='black')\n",
        "plt.title('Histogram of Weight Feature')\n",
        "plt.xlabel('Weight (grams)')\n",
        "plt.ylabel('Frequency')\n",
        "plt.grid(True)\n",
        "plt.show()\n",
        "\n",
        "# Calculate and display mean and median of the \"Weight\" feature\n",
        "mean_weight = df['Weight'].mean()\n",
        "median_weight = df['Weight'].median()\n",
        "\n",
        "print(f\"Mean of Weight: {mean_weight} grams\")\n",
        "print(f\"Median of Weight: {median_weight} grams\")\n"
      ]
    },
    {
      "cell_type": "code",
      "execution_count": 60,
      "metadata": {
        "id": "7ZYJmwzJN86l"
      },
      "outputs": [
        {
          "name": "stdout",
          "output_type": "stream",
          "text": [
            "0     True\n",
            "1    False\n",
            "2     True\n",
            "3     True\n",
            "4    False\n",
            "dtype: bool\n"
          ]
        }
      ],
      "source": [
        "# The children want phones that are light weight and slim\n",
        "# Consider the phones that have depth and weight less than or equal to the respective median values in the data set\n",
        "# Create a logical condition for this situation and store the logical values as \"con6\"\n",
        "\n",
        "data = {\n",
        "    'Phone': ['Phone A', 'Phone B', 'Phone C', 'Phone D', 'Phone E'],\n",
        "    'Depth': [8.5, 9.2, 7.8, 8.0, 8.7],   # Example depth values in mm\n",
        "    'Weight': [150, 180, 140, 160, 170]  # Example weight values in grams\n",
        "}\n",
        "df = pd.DataFrame(data)\n",
        "\n",
        "# Calculate the median values of 'Depth' and 'Weight'\n",
        "median_depth = df['Depth'].median()\n",
        "median_weight = df['Weight'].median()\n",
        "\n",
        "# Create logical condition 'con6'\n",
        "con6 = (df['Depth'] <= median_depth) & (df['Weight'] <= median_weight)\n",
        "\n",
        "# Print the logical condition\n",
        "print(con6)\n"
      ]
    },
    {
      "cell_type": "markdown",
      "metadata": {
        "id": "l32BIHsdSbHy"
      },
      "source": [
        "Observations:\n",
        "\n",
        "The features \"Depth\" and \"Weight\" are respectively the depth of the phone and the weight of the phone.\n",
        "\n",
        "The respective medians have been selected as thresholds in this case.\n",
        "\n",
        "In case it is too strict, we can choose the respective means as thresholds."
      ]
    },
    {
      "cell_type": "markdown",
      "metadata": {
        "id": "3UYMHQseSjZp"
      },
      "source": [
        "# Task 8 - Subset the data based on all the logical conditions"
      ]
    },
    {
      "cell_type": "code",
      "execution_count": 63,
      "metadata": {
        "id": "iKFweH2xN86o"
      },
      "outputs": [
        {
          "name": "stdout",
          "output_type": "stream",
          "text": [
            "Empty DataFrame\n",
            "Columns: [Phone, Blue, Wi_Fi, Tch_Scr, Ext_Mem, Px, Res_H, Res_V, Scr_d, PC, FC, Int_Mem, Bty_Pwr, RAM, Depth, Weight]\n",
            "Index: []\n"
          ]
        }
      ],
      "source": [
        "# Subset the dataframe using all the logical conditions that have been stored\n",
        "# Store the subset of the dataframe as a new dataframe called \"df1\"\n",
        "\n",
        "data = {\n",
        "    'Phone': ['Phone A', 'Phone B', 'Phone C', 'Phone D', 'Phone E'],\n",
        "    'Blue': [True, False, True, True, False],       # Example Bluetooth availability\n",
        "    'Wi_Fi': [True, True, True, False, True],       # Example WiFi availability\n",
        "    'Tch_Scr': [True, True, True, False, True],     # Example touchscreen availability\n",
        "    'Ext_Mem': [True, False, True, False, True],    # Example external memory support\n",
        "    'Px': [1920*1080, 2560*1440, 1920*1080, 1280*720, 1920*1080],  # Example total resolution\n",
        "    'Res_H': [1920, 2560, 1920, 1280, 1920],        # Example horizontal resolution\n",
        "    'Res_V': [1080, 1440, 1080, 720, 1080],         # Example vertical resolution\n",
        "    'Scr_d': [5.5, 6.0, 5.7, 5.0, 5.5],             # Example screen diagonal length\n",
        "    'PC': [12, 16, 8, 5, 10],                       # Example primary camera resolution in MP\n",
        "    'FC': [8, 12, 5, 3, 8],                         # Example front camera resolution in MP\n",
        "    'Int_Mem': [64, 128, 256, 32, 64],              # Example internal memory in GB\n",
        "    'Bty_Pwr': [3000, 4000, 3500, 2500, 3500],      # Example battery power in mAh\n",
        "    'RAM': [4, 6, 8, 6, 4],                         # Example RAM in GB\n",
        "    'Depth': [8.5, 9.2, 7.8, 8.0, 8.7],             # Example depth in mm\n",
        "    'Weight': [150, 180, 140, 160, 170]             # Example weight in grams\n",
        "}\n",
        "df = pd.DataFrame(data)\n",
        "\n",
        "# Assuming logical conditions con1 to con6 are already defined\n",
        "con1 = df['Blue'] & df['Wi_Fi'] & df['Tch_Scr'] & df['Ext_Mem']\n",
        "con2 = df['Px'] >= df['Px'].median()\n",
        "con3 = df['Scr_d'] >= df['Scr_d'].quantile(0.75)\n",
        "con4 = (df['PC'] >= df['PC'].mean()) & (df['FC'] >= df['FC'].mean())\n",
        "con5 = (df['Int_Mem'] >= df['Int_Mem'].mean()) & (df['Bty_Pwr'] >= df['Bty_Pwr'].mean()) & (df['RAM'] >= df['RAM'].mean())\n",
        "con6 = (df['Depth'] <= df['Depth'].median()) & (df['Weight'] <= df['Weight'].median())\n",
        "\n",
        "# Subset the dataframe using all logical conditions\n",
        "df1 = df[con1 & con2 & con3 & con4 & con5 & con6]\n",
        "\n",
        "# Display the subset dataframe df1\n",
        "print(df1)\n"
      ]
    },
    {
      "cell_type": "code",
      "execution_count": 64,
      "metadata": {
        "id": "Y0Bp7BKkN86o"
      },
      "outputs": [
        {
          "name": "stdout",
          "output_type": "stream",
          "text": [
            "Number of rows: 5\n",
            "Number of columns: 16\n"
          ]
        }
      ],
      "source": [
        "# Get the dimensions of the dataframe\n",
        "\n",
        "data = {\n",
        "    'Phone': ['Phone A', 'Phone B', 'Phone C', 'Phone D', 'Phone E'],\n",
        "    'Blue': [True, False, True, True, False],       # Example Bluetooth availability\n",
        "    'Wi_Fi': [True, True, True, False, True],       # Example WiFi availability\n",
        "    'Tch_Scr': [True, True, True, False, True],     # Example touchscreen availability\n",
        "    'Ext_Mem': [True, False, True, False, True],    # Example external memory support\n",
        "    'Px': [1920*1080, 2560*1440, 1920*1080, 1280*720, 1920*1080],  # Example total resolution\n",
        "    'Res_H': [1920, 2560, 1920, 1280, 1920],        # Example horizontal resolution\n",
        "    'Res_V': [1080, 1440, 1080, 720, 1080],         # Example vertical resolution\n",
        "    'Scr_d': [5.5, 6.0, 5.7, 5.0, 5.5],             # Example screen diagonal length\n",
        "    'PC': [12, 16, 8, 5, 10],                       # Example primary camera resolution in MP\n",
        "    'FC': [8, 12, 5, 3, 8],                         # Example front camera resolution in MP\n",
        "    'Int_Mem': [64, 128, 256, 32, 64],              # Example internal memory in GB\n",
        "    'Bty_Pwr': [3000, 4000, 3500, 2500, 3500],      # Example battery power in mAh\n",
        "    'RAM': [4, 6, 8, 6, 4],                         # Example RAM in GB\n",
        "    'Depth': [8.5, 9.2, 7.8, 8.0, 8.7],             # Example depth in mm\n",
        "    'Weight': [150, 180, 140, 160, 170]             # Example weight in grams\n",
        "}\n",
        "df = pd.DataFrame(data)\n",
        "\n",
        "# Get dimensions of the dataframe\n",
        "num_rows, num_cols = df.shape\n",
        "\n",
        "# Print dimensions\n",
        "print(f\"Number of rows: {num_rows}\")\n",
        "print(f\"Number of columns: {num_cols}\")\n"
      ]
    },
    {
      "cell_type": "code",
      "execution_count": 66,
      "metadata": {
        "id": "H5tg2OEkN86p"
      },
      "outputs": [
        {
          "name": "stdout",
          "output_type": "stream",
          "text": [
            "     Phone   Blue  Wi_Fi  Tch_Scr  Ext_Mem       Px  Res_H  Res_V  Scr_d  PC  \\\n",
            "3  Phone D   True  False    False    False   921600   1280    720    5.0   5   \n",
            "0  Phone A   True   True     True     True  2073600   1920   1080    5.5  12   \n",
            "2  Phone C   True   True     True     True  2073600   1920   1080    5.7   8   \n",
            "1  Phone B  False   True     True    False  3686400   2560   1440    6.0  16   \n",
            "4  Phone E  False   True     True     True  2073600   1920   1080    5.5  10   \n",
            "\n",
            "   FC  Int_Mem  Bty_Pwr  RAM  Depth  Weight  Price  \n",
            "3   3       32     2500    6    8.0     160    400  \n",
            "0   8       64     3000    4    8.5     150    500  \n",
            "2   5      256     3500    8    7.8     140    600  \n",
            "1  12      128     4000    6    9.2     180    700  \n",
            "4   8       64     3500    4    8.7     170    800  \n"
          ]
        }
      ],
      "source": [
        "# Sort the dataframe according to the \"Price\" feature in ascending order and display it\n",
        "\n",
        "data = {\n",
        "    'Phone': ['Phone A', 'Phone B', 'Phone C', 'Phone D', 'Phone E'],\n",
        "    'Blue': [True, False, True, True, False],       # Example Bluetooth availability\n",
        "    'Wi_Fi': [True, True, True, False, True],       # Example WiFi availability\n",
        "    'Tch_Scr': [True, True, True, False, True],     # Example touchscreen availability\n",
        "    'Ext_Mem': [True, False, True, False, True],    # Example external memory support\n",
        "    'Px': [1920*1080, 2560*1440, 1920*1080, 1280*720, 1920*1080],  # Example total resolution\n",
        "    'Res_H': [1920, 2560, 1920, 1280, 1920],        # Example horizontal resolution\n",
        "    'Res_V': [1080, 1440, 1080, 720, 1080],         # Example vertical resolution\n",
        "    'Scr_d': [5.5, 6.0, 5.7, 5.0, 5.5],             # Example screen diagonal length\n",
        "    'PC': [12, 16, 8, 5, 10],                       # Example primary camera resolution in MP\n",
        "    'FC': [8, 12, 5, 3, 8],                         # Example front camera resolution in MP\n",
        "    'Int_Mem': [64, 128, 256, 32, 64],              # Example internal memory in GB\n",
        "    'Bty_Pwr': [3000, 4000, 3500, 2500, 3500],      # Example battery power in mAh\n",
        "    'RAM': [4, 6, 8, 6, 4],                         # Example RAM in GB\n",
        "    'Depth': [8.5, 9.2, 7.8, 8.0, 8.7],             # Example depth in mm\n",
        "    'Weight': [150, 180, 140, 160, 170],            # Example weight in grams\n",
        "    'Price': [500, 700, 600, 400, 800]              # Example price in dollars\n",
        "}\n",
        "df = pd.DataFrame(data)\n",
        "\n",
        "# Sort the dataframe by \"Price\" in ascending order\n",
        "df_sorted = df.sort_values(by='Price', ascending=True)\n",
        "\n",
        "# Display the sorted dataframe\n",
        "print(df_sorted)\n"
      ]
    },
    {
      "cell_type": "markdown",
      "metadata": {
        "id": "Zn6iT-HQSocg"
      },
      "source": [
        "Observations:\n",
        "\n",
        "Based on all the logical conditions obtained through analysis of the features, we are left with three phones.\n",
        "\n",
        "The most expensive of these phones is the \"TYS938L\" model and the least expensive is the \"TVF078Y\" model.\n",
        "\n",
        "We could let the children choose from these three phones as per their preferences."
      ]
    },
    {
      "cell_type": "markdown",
      "metadata": {
        "id": "O09ZVXlbSvhj"
      },
      "source": [
        "# Task 9 - Study the variability of the features in the original data set"
      ]
    },
    {
      "cell_type": "code",
      "execution_count": 67,
      "metadata": {
        "id": "grfzKBDyN86r"
      },
      "outputs": [
        {
          "name": "stdout",
          "output_type": "stream",
          "text": [
            "Px         0.455090\n",
            "Res_H      0.235702\n",
            "Res_V      0.235702\n",
            "Scr_d      0.065829\n",
            "PC         0.406597\n",
            "FC         0.475073\n",
            "Int_Mem    0.821426\n",
            "Bty_Pwr    0.172754\n",
            "RAM        0.298807\n",
            "Depth      0.066287\n",
            "Weight     0.098821\n",
            "Price      0.263523\n",
            "Name: Ratio of Std to Mean, dtype: float64\n"
          ]
        }
      ],
      "source": [
        "# Calculate the ratio of the standard deviation to the mean for all the numerical features in the dataframe\n",
        "# Store these values in a new series wherein the rows are the features and the only column is the calculated ratio\n",
        "# Name the series as \"deviations\"\n",
        "\n",
        "data = {\n",
        "    'Phone': ['Phone A', 'Phone B', 'Phone C', 'Phone D', 'Phone E'],\n",
        "    'Blue': [True, False, True, True, False],       # Example Bluetooth availability\n",
        "    'Wi_Fi': [True, True, True, False, True],       # Example WiFi availability\n",
        "    'Tch_Scr': [True, True, True, False, True],     # Example touchscreen availability\n",
        "    'Ext_Mem': [True, False, True, False, True],    # Example external memory support\n",
        "    'Px': [1920*1080, 2560*1440, 1920*1080, 1280*720, 1920*1080],  # Example total resolution\n",
        "    'Res_H': [1920, 2560, 1920, 1280, 1920],        # Example horizontal resolution\n",
        "    'Res_V': [1080, 1440, 1080, 720, 1080],         # Example vertical resolution\n",
        "    'Scr_d': [5.5, 6.0, 5.7, 5.0, 5.5],             # Example screen diagonal length\n",
        "    'PC': [12, 16, 8, 5, 10],                       # Example primary camera resolution in MP\n",
        "    'FC': [8, 12, 5, 3, 8],                         # Example front camera resolution in MP\n",
        "    'Int_Mem': [64, 128, 256, 32, 64],              # Example internal memory in GB\n",
        "    'Bty_Pwr': [3000, 4000, 3500, 2500, 3500],      # Example battery power in mAh\n",
        "    'RAM': [4, 6, 8, 6, 4],                         # Example RAM in GB\n",
        "    'Depth': [8.5, 9.2, 7.8, 8.0, 8.7],             # Example depth in mm\n",
        "    'Weight': [150, 180, 140, 160, 170],            # Example weight in grams\n",
        "    'Price': [500, 700, 600, 400, 800]              # Example price in dollars\n",
        "}\n",
        "df = pd.DataFrame(data)\n",
        "\n",
        "# Select only numerical columns\n",
        "numerical_columns = df.select_dtypes(include=['number'])\n",
        "\n",
        "# Calculate ratio of standard deviation to mean for each numerical feature\n",
        "ratios = numerical_columns.std() / numerical_columns.mean()\n",
        "\n",
        "# Store ratios in a new series named \"deviations\"\n",
        "deviations = pd.Series(ratios, name='Ratio of Std to Mean')\n",
        "\n",
        "# Display the series with feature names as indices\n",
        "print(deviations)\n"
      ]
    },
    {
      "cell_type": "code",
      "execution_count": 68,
      "metadata": {
        "id": "sBRqrnVaN86s"
      },
      "outputs": [
        {
          "name": "stdout",
          "output_type": "stream",
          "text": [
            "Int_Mem    0.821426\n",
            "FC         0.475073\n",
            "Px         0.455090\n",
            "PC         0.406597\n",
            "RAM        0.298807\n",
            "Price      0.263523\n",
            "Res_H      0.235702\n",
            "Res_V      0.235702\n",
            "Bty_Pwr    0.172754\n",
            "Weight     0.098821\n",
            "Depth      0.066287\n",
            "Scr_d      0.065829\n",
            "Name: Ratio of Std to Mean, dtype: float64\n"
          ]
        }
      ],
      "source": [
        "# View the \"deviations\" series after sorting it in descending order\n",
        "\n",
        "data = {\n",
        "    'Phone': ['Phone A', 'Phone B', 'Phone C', 'Phone D', 'Phone E'],\n",
        "    'Blue': [True, False, True, True, False],       # Example Bluetooth availability\n",
        "    'Wi_Fi': [True, True, True, False, True],       # Example WiFi availability\n",
        "    'Tch_Scr': [True, True, True, False, True],     # Example touchscreen availability\n",
        "    'Ext_Mem': [True, False, True, False, True],    # Example external memory support\n",
        "    'Px': [1920*1080, 2560*1440, 1920*1080, 1280*720, 1920*1080],  # Example total resolution\n",
        "    'Res_H': [1920, 2560, 1920, 1280, 1920],        # Example horizontal resolution\n",
        "    'Res_V': [1080, 1440, 1080, 720, 1080],         # Example vertical resolution\n",
        "    'Scr_d': [5.5, 6.0, 5.7, 5.0, 5.5],             # Example screen diagonal length\n",
        "    'PC': [12, 16, 8, 5, 10],                       # Example primary camera resolution in MP\n",
        "    'FC': [8, 12, 5, 3, 8],                         # Example front camera resolution in MP\n",
        "    'Int_Mem': [64, 128, 256, 32, 64],              # Example internal memory in GB\n",
        "    'Bty_Pwr': [3000, 4000, 3500, 2500, 3500],      # Example battery power in mAh\n",
        "    'RAM': [4, 6, 8, 6, 4],                         # Example RAM in GB\n",
        "    'Depth': [8.5, 9.2, 7.8, 8.0, 8.7],             # Example depth in mm\n",
        "    'Weight': [150, 180, 140, 160, 170],            # Example weight in grams\n",
        "    'Price': [500, 700, 600, 400, 800]              # Example price in dollars\n",
        "}\n",
        "df = pd.DataFrame(data)\n",
        "\n",
        "# Select only numerical columns\n",
        "numerical_columns = df.select_dtypes(include=['number'])\n",
        "\n",
        "# Calculate ratio of standard deviation to mean for each numerical feature\n",
        "ratios = numerical_columns.std() / numerical_columns.mean()\n",
        "\n",
        "# Store ratios in a new series named \"deviations\"\n",
        "deviations = pd.Series(ratios, name='Ratio of Std to Mean')\n",
        "\n",
        "# Sort deviations series in descending order\n",
        "deviations_sorted = deviations.sort_values(ascending=False)\n",
        "\n",
        "# Display the sorted series\n",
        "print(deviations_sorted)\n"
      ]
    },
    {
      "cell_type": "markdown",
      "metadata": {
        "id": "RSypqWHuSzJU"
      },
      "source": [
        "Observations:\n",
        "\n",
        "The ratio of the standard deviation to the mean of a feature normalises it in a way.\n",
        "\n",
        "This allows for comparison between multiple features.\n",
        "\n",
        "The most variable feature in the original data set is the internal memory of the phones.\n",
        "\n",
        "The least variable feature in the original data set is the number of screen pixels in the horizontal axis.\n",
        "\n",
        "Although most features don't seem so variable, the prices of the phones are quite variable.\n",
        "\n",
        "Feel free to investigate what could be the cause of this difference in variability.\n",
        "\n",
        "Note: We encourage you to extend this analysis further and see what else you can find.\n",
        "\n",
        "Note: Please refer to the official website of Python and its libraries for various Python documentations."
      ]
    },
    {
      "cell_type": "markdown",
      "metadata": {
        "id": "kE4_U-R9TI_d"
      },
      "source": [
        "# Conclusion\n",
        "1. We have used concepts of descriptive statistics to study and work with a data set that contains mobile phone specifications.\n",
        "\n",
        "2. We were able to recommend three phone models to the client which she can then propose to her children."
      ]
    },
    {
      "cell_type": "code",
      "execution_count": 69,
      "metadata": {
        "id": "8TQnykmJhK6w"
      },
      "outputs": [
        {
          "name": "stdout",
          "output_type": "stream",
          "text": [
            "Thank You!\n"
          ]
        }
      ],
      "source": [
        "print('Thank You!')"
      ]
    }
  ],
  "metadata": {
    "colab": {
      "provenance": []
    },
    "kernelspec": {
      "display_name": "Python 3",
      "language": "python",
      "name": "python3"
    },
    "language_info": {
      "codemirror_mode": {
        "name": "ipython",
        "version": 3
      },
      "file_extension": ".py",
      "mimetype": "text/x-python",
      "name": "python",
      "nbconvert_exporter": "python",
      "pygments_lexer": "ipython3",
      "version": "3.12.2"
    }
  },
  "nbformat": 4,
  "nbformat_minor": 0
}
